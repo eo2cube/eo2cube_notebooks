{
 "cells": [
  {
   "cell_type": "markdown",
   "metadata": {},
   "source": [
    "<img align=\"right\" src=\"../../additional_data/banner_siegel.png\" style=\"width:1100px;\">"
   ]
  },
  {
   "cell_type": "markdown",
   "metadata": {},
   "source": [
    "# Advanced Xarray\n",
    "\n",
    "* [**Sign up to the JupyterHub**](https://www.phenocube.org/) to run this notebook interactively from your browser\n",
    "* **Compatibility:** Notebook currently compatible with the Open Data Cube environments of the University of Wuerzburg\n",
    "* **Products used**: `s2_l2a_bavaria`\n",
    "* **Prerequisites**:  Users of this notebook should have a basic understanding of:\n",
    "    * How to run a [Jupyter notebook](01_jupyter_introduction.ipynb)\n",
    "    * The basic structure of the eo2cube [satellite datasets](02_eo2cube.ipynb)\n",
    "    * How to browse through the available [products and measurements](03_products_and_measurements.ipynb) of the eo2cube datacube \n",
    "    * How to [load data from the eo2cube datacube](04_loading_data_and_basic_xarray.ipynb) "
   ]
  },
  {
   "cell_type": "markdown",
   "metadata": {},
   "source": [
    "## Background\n",
    "\n",
    "The Python library `xarray` simplifies working with labelled multi-dimension arrays. The library introduces labels in the forms of dimensions, coordinates and attributes on top of `numpy` arrays. This structure allows easier and more effective handling of remote sensing raster data in a Python environment. Therefore, it is essential to fully understand the structure of an `xarray`. A first introduction into the usage of `xarray` within the eo2cube environment was given in [\"04_loading_data_and_basic_xarray\"](04_loading_data_and_basic_xarray.ipynb). This notebook builds on this gained knowledge and attempts to give a deeper understanding of the `xarray` data structure of raster data. If you are interested in learning more about the structures of the original `xarray`, have a look at this [**\"introduction to xarray\" notebook**](intro_to_xarray.ipynb) within the \"intro_to_python\" directory.\n",
    "To get more information about the `xarray` package, visit the [offical documentation website](http://xarray.pydata.org/en/stable/).\n",
    "\n",
    "## Description\n",
    "\n",
    "This notebook introduces users to the `xarray` library within the datacube environment. It aims to deepen the understanding of the `xarray` structure as a container for remote sensing raster data. Also it introduces useful `xarray` functions to effectivly work with raster data in the eo2cube environment. Within this notebook the following topics are covered:\n",
    "\n",
    "* Application of built-in `xarray` functions for analyzing raster data\n",
    "\n",
    "***"
   ]
  },
  {
   "cell_type": "markdown",
   "metadata": {},
   "source": [
    "## Setting up\n",
    "### Load packages\n",
    "\n",
    "The `datacube` package is required to query the eo2cube datacube database and load the requested data. The `with_ui_cbk` function from `odc.ui` enables a progress bar when loading large amounts of data. The `xarray` and `numpy` package are needed for the different methods and analysis steps within this notebook. "
   ]
  },
  {
   "cell_type": "code",
   "execution_count": 1,
   "metadata": {},
   "outputs": [],
   "source": [
    "import datacube\n",
    "#from odc.ui import with_ui_cbk\n",
    "import xarray as xr\n",
    "import numpy as np\n",
    "\n",
    "dc = datacube.Datacube(app = \"nb_understand_ndArrays\", config = '/home/datacube/.datacube.conf')"
   ]
  },
  {
   "cell_type": "markdown",
   "metadata": {},
   "source": [
    "### Datacube connection and load data\n",
    "\n",
    "First we connect to the datacube and load a dumy dataset from the eo2cube. For this we will use the `s2_l2a_namibia` product. `ds` contains scenes of the `s2_l2a_namibia` product from January 2020 to March 2020."
   ]
  },
  {
   "cell_type": "code",
   "execution_count": 2,
   "metadata": {
    "tags": []
   },
   "outputs": [
    {
     "name": "stdout",
     "output_type": "stream",
     "text": [
      "<xarray.Dataset>\n",
      "Dimensions:      (time: 36, x: 164, y: 82)\n",
      "Coordinates:\n",
      "  * time         (time) datetime64[ns] 2020-01-02T09:07:17 ... 2020-03-29T08:...\n",
      "  * y            (y) float64 7.28e+06 7.28e+06 7.28e+06 ... 7.28e+06 7.28e+06\n",
      "  * x            (x) float64 1.751e+05 1.751e+05 ... 1.767e+05 1.768e+05\n",
      "    spatial_ref  int32 32734\n",
      "Data variables:\n",
      "    blue         (time, y, x) int16 823 861 889 769 698 ... 854 844 804 783 733\n",
      "    green        (time, y, x) int16 1120 1146 1190 1086 ... 1182 1178 1124 1092\n",
      "    red          (time, y, x) int16 1560 1596 1634 1530 ... 1632 1560 1518 1448\n",
      "Attributes:\n",
      "    crs:           EPSG:32734\n",
      "    grid_mapping:  spatial_ref\n"
     ]
    }
   ],
   "source": [
    "# Sample of Namibia\n",
    "ds = dc.load(product = \"s2_l2a_namibia\",\n",
    "             measurements = [\"blue\", \"green\", \"red\"],\n",
    "             longitude = [17.793, 17.809],\n",
    "             latitude = [-24.564, -24.557],\n",
    "             time = (\"2020-01-01\", \"2020-03-31\"),\n",
    "             group_by = \"solar_day\")\n",
    "\n",
    "# Sample of Bavaria\n",
    "#ds = dc.load(product= \"s2_l2a_bavaria\",\n",
    "#                 measurements= [\"blue\", \"green\", \"red\"],\n",
    "#                 x= (9.8506165, 11.273325),\n",
    "#                 y= (49.7352601, 50.191334),\n",
    "#                 time= (\"2019-12-01\", \"2020-02-28\"),\n",
    "#                 group_by = \"solar_day\",\n",
    "#                 progress_cbk=with_ui_cbk())\n",
    "\n",
    "print(ds)"
   ]
  },
  {
   "cell_type": "markdown",
   "metadata": {},
   "source": [
    "<a id='index_array3'></a>\n",
    "## **Advanced Indexing**\n",
    "### 1) Temporal Subset"
   ]
  },
  {
   "cell_type": "markdown",
   "metadata": {},
   "source": [
    "In the earlier tutorial we introduced `isel()`and `sel()` for indexing data. For both methods a **slicing** operator exists. If the function `slice()` is passed onto the index function, the dataset can be sliced. \n",
    "The first example uses the slicing by position method to select the first five scenes in `data_1`. The start value is included and the stop value is excluded.\n",
    "\n",
    "#### I. Using index number"
   ]
  },
  {
   "cell_type": "code",
   "execution_count": 3,
   "metadata": {},
   "outputs": [
    {
     "name": "stdout",
     "output_type": "stream",
     "text": [
      "<xarray.Dataset>\n",
      "Dimensions:      (time: 5, x: 164, y: 82)\n",
      "Coordinates:\n",
      "  * time         (time) datetime64[ns] 2020-01-02T09:07:17 ... 2020-01-12T09:...\n",
      "  * y            (y) float64 7.28e+06 7.28e+06 7.28e+06 ... 7.28e+06 7.28e+06\n",
      "  * x            (x) float64 1.751e+05 1.751e+05 ... 1.767e+05 1.768e+05\n",
      "    spatial_ref  int32 32734\n",
      "Data variables:\n",
      "    blue         (time, y, x) int16 823 861 889 769 698 ... 852 802 774 753 713\n",
      "    green        (time, y, x) int16 1120 1146 1190 1086 ... 1140 1126 1068 1036\n",
      "    red          (time, y, x) int16 1560 1596 1634 1530 ... 1644 1614 1532 1448\n",
      "Attributes:\n",
      "    crs:           EPSG:32734\n",
      "    grid_mapping:  spatial_ref\n"
     ]
    }
   ],
   "source": [
    "print(ds.isel(time=slice(0,5)))"
   ]
  },
  {
   "cell_type": "markdown",
   "metadata": {},
   "source": [
    "This example uses the slicing by label method to select the scenes between \"2019-12-08\" and \"2019-12-25\". Note, that when using the `slice()` function with the `sel()` method, both start and stop value are included.\n",
    "\n",
    "#### II. Using `datetime64` data"
   ]
  },
  {
   "cell_type": "code",
   "execution_count": 4,
   "metadata": {},
   "outputs": [
    {
     "name": "stdout",
     "output_type": "stream",
     "text": [
      "<xarray.Dataset>\n",
      "Dimensions:      (time: 12, x: 164, y: 82)\n",
      "Coordinates:\n",
      "  * time         (time) datetime64[ns] 2020-01-02T09:07:17 ... 2020-01-29T08:...\n",
      "  * y            (y) float64 7.28e+06 7.28e+06 7.28e+06 ... 7.28e+06 7.28e+06\n",
      "  * x            (x) float64 1.751e+05 1.751e+05 ... 1.767e+05 1.768e+05\n",
      "    spatial_ref  int32 32734\n",
      "Data variables:\n",
      "    blue         (time, y, x) int16 823 861 889 769 698 ... 996 1008 944 906\n",
      "    green        (time, y, x) int16 1120 1146 1190 1086 ... 1372 1382 1316 1262\n",
      "    red          (time, y, x) int16 1560 1596 1634 1530 ... 1974 1930 1898 1832\n",
      "Attributes:\n",
      "    crs:           EPSG:32734\n",
      "    grid_mapping:  spatial_ref\n"
     ]
    }
   ],
   "source": [
    "print(ds.sel(time=slice(\"2020-01-01\", \"2020-01-31\"))) # Namibia\n",
    "#print(ds.sel(time=slice(\"2019-12-01\",\"2019-12-25\"))) # Bavaria"
   ]
  },
  {
   "cell_type": "markdown",
   "metadata": {},
   "source": [
    "#### III. Using other time dimensions\n",
    "\n",
    "`xarray` also includes some useful features for the inspection of the time dimension. It allows to easily extract additional information from a dataset. The following code automatically groups the time dimension in seasons (\"DJF\", \"MAM\", JJA\", \"SON\"). Since `ds` only contains scens from winter months, only the label \"DJF\" will appear. There are a lot of other `time` dimensions arguments, e.g. `month`, `week`, `weekday`, `dayofyear`."
   ]
  },
  {
   "cell_type": "code",
   "execution_count": 5,
   "metadata": {},
   "outputs": [
    {
     "name": "stdout",
     "output_type": "stream",
     "text": [
      "<xarray.DataArray 'season' (time: 36)>\n",
      "array(['DJF', 'DJF', 'DJF', 'DJF', 'DJF', 'DJF', 'DJF', 'DJF', 'DJF',\n",
      "       'DJF', 'DJF', 'DJF', 'DJF', 'DJF', 'DJF', 'DJF', 'DJF', 'DJF',\n",
      "       'DJF', 'DJF', 'DJF', 'DJF', 'DJF', 'DJF', 'MAM', 'MAM', 'MAM',\n",
      "       'MAM', 'MAM', 'MAM', 'MAM', 'MAM', 'MAM', 'MAM', 'MAM', 'MAM'],\n",
      "      dtype='<U3')\n",
      "Coordinates:\n",
      "  * time         (time) datetime64[ns] 2020-01-02T09:07:17 ... 2020-03-29T08:...\n",
      "    spatial_ref  int32 32734\n"
     ]
    }
   ],
   "source": [
    "print(ds.time.dt.season)"
   ]
  },
  {
   "cell_type": "markdown",
   "metadata": {},
   "source": [
    "It is also possible to extract the \"day of year\" for a time step."
   ]
  },
  {
   "cell_type": "code",
   "execution_count": 6,
   "metadata": {},
   "outputs": [
    {
     "name": "stdout",
     "output_type": "stream",
     "text": [
      "<xarray.DataArray 'dayofyear' (time: 36)>\n",
      "array([ 2,  4,  7,  9, 12, 14, 17, 19, 22, 24, 27, 29, 32, 34, 37, 39, 42,\n",
      "       44, 47, 49, 52, 54, 57, 59, 62, 64, 67, 69, 72, 74, 77, 79, 82, 84,\n",
      "       87, 89])\n",
      "Coordinates:\n",
      "  * time         (time) datetime64[ns] 2020-01-02T09:07:17 ... 2020-03-29T08:...\n",
      "    spatial_ref  int32 32734\n"
     ]
    }
   ],
   "source": [
    "print(ds.time.dt.dayofyear)"
   ]
  },
  {
   "cell_type": "markdown",
   "metadata": {},
   "source": [
    "### 2) Spatial Subset\n",
    "It is possible to index and **slice within the x and y dimensions**. The following example selects the value for each band of the pixel in the second colum of the raster and the fifth row of the raster (`x=2,y=5`)"
   ]
  },
  {
   "cell_type": "code",
   "execution_count": 7,
   "metadata": {},
   "outputs": [
    {
     "name": "stdout",
     "output_type": "stream",
     "text": [
      "<xarray.Dataset>\n",
      "Dimensions:      (time: 36)\n",
      "Coordinates:\n",
      "  * time         (time) datetime64[ns] 2020-01-02T09:07:17 ... 2020-03-29T08:...\n",
      "    y            float64 7.28e+06\n",
      "    x            float64 1.751e+05\n",
      "    spatial_ref  int32 32734\n",
      "Data variables:\n",
      "    blue         (time) int16 786 1140 753 0 800 0 ... 698 0 725 1052 714 993\n",
      "    green        (time) int16 1128 1446 1078 0 1146 0 ... 0 1052 1262 1070 1300\n",
      "    red          (time) int16 1546 1946 1494 0 1556 0 ... 0 1462 1706 1448 1768\n",
      "Attributes:\n",
      "    crs:           EPSG:32734\n",
      "    grid_mapping:  spatial_ref\n"
     ]
    }
   ],
   "source": [
    "print(ds.isel(x=2, y= 5))"
   ]
  },
  {
   "cell_type": "markdown",
   "metadata": {},
   "source": [
    "### 3) Combining Temporal and Spatial Subset\n",
    "\n",
    "Again, this method can be combined with the `slice()` operator to do a spatial subset of the dataset based on the position of the pixels. If you know the actual coordinate (x,y) value (extent) of the spatial subset area, use the `sel()` function.\n",
    "Additionally, this subset can also be sliced in the time dimensions.\n",
    "\n",
    "The following example subsets the `ds` by the spatial location of the pixels. Only the pixels from the first to the fifth column and the pixels from the first to the fifth row are included in the output. Also the scenes where filtered in the time dimension between the first and fifth time step."
   ]
  },
  {
   "cell_type": "code",
   "execution_count": 8,
   "metadata": {},
   "outputs": [
    {
     "name": "stdout",
     "output_type": "stream",
     "text": [
      "<xarray.Dataset>\n",
      "Dimensions:      (time: 5, x: 5, y: 5)\n",
      "Coordinates:\n",
      "  * time         (time) datetime64[ns] 2020-01-02T09:07:17 ... 2020-01-12T09:...\n",
      "  * y            (y) float64 7.28e+06 7.28e+06 7.28e+06 7.28e+06 7.28e+06\n",
      "  * x            (x) float64 1.751e+05 1.751e+05 1.751e+05 1.752e+05 1.752e+05\n",
      "    spatial_ref  int32 32734\n",
      "Data variables:\n",
      "    blue         (time, y, x) int16 823 861 889 769 698 ... 841 703 689 762 796\n",
      "    green        (time, y, x) int16 1120 1146 1190 1086 ... 1064 1011 1054 1132\n",
      "    red          (time, y, x) int16 1560 1596 1634 1530 ... 1472 1362 1476 1574\n",
      "Attributes:\n",
      "    crs:           EPSG:32734\n",
      "    grid_mapping:  spatial_ref\n"
     ]
    }
   ],
   "source": [
    "print(ds.isel(time=slice(0,5), x= slice(0,5), y=slice(0,5)))"
   ]
  },
  {
   "cell_type": "markdown",
   "metadata": {},
   "source": [
    "## **Data Manipulation & Statistics**\n",
    "\n",
    "This notebook presents some basic built-in functions of the `xarray` library to manipulate and transform data in a `xarray.Dataset`. In this notebook only a fraction of the available `xarray` functions are presented. For a complete overview of all the available functions and tools of the `xarray` package please visit the [documentation website](http://xarray.pydata.org/en/stable/). The [notebook 07](07_basic_analysis.ipynb) will cover this topic with a focus on an application oriented remote sensing approach.\n",
    "\n",
    "###  1) Statistical Operation\n",
    "\n",
    "The simple built-in functions allow the user to do simple calculations with a `xarray.Dataset`.\n",
    "The **basic math** built-in `xarray` functions are:\n",
    "* `min()`, `max()`\n",
    "* `mean()`, `median()`\n",
    "* `sum()`\n",
    "* `std()`\n",
    "\n",
    "The following code demonstrates the easy use of the `max()` function to extract the maximum value of the red band in the `ds` dataset."
   ]
  },
  {
   "cell_type": "code",
   "execution_count": 9,
   "metadata": {},
   "outputs": [
    {
     "name": "stdout",
     "output_type": "stream",
     "text": [
      "<xarray.DataArray 'red' ()>\n",
      "array(10088, dtype=int16)\n",
      "Coordinates:\n",
      "    spatial_ref  int32 32734\n"
     ]
    }
   ],
   "source": [
    "print(ds.red.max())"
   ]
  },
  {
   "cell_type": "markdown",
   "metadata": {},
   "source": [
    "To apply a function to every value of a specified dimension (e.g. to calculate the mean of every time step) the `dim` argument in the basic math function must be define with the dimension label.\n",
    "\n",
    "This examples calculates the mean of the `red` band for each pixel (defined by the unique `x`, `y` combination) over every time step. The result is a data array which can be used for further time series visualization and analysis."
   ]
  },
  {
   "cell_type": "code",
   "execution_count": 10,
   "metadata": {},
   "outputs": [
    {
     "name": "stdout",
     "output_type": "stream",
     "text": [
      "<xarray.DataArray 'red' (time: 36)>\n",
      "array([1618.67013682, 1871.20865556, 1566.82666568, 1471.77840571,\n",
      "       1600.29052647, 1848.95939917, 3024.54625223, 1289.06290898,\n",
      "       1615.75014872, 1599.40660321, 1649.24479477, 1080.55993456,\n",
      "       1588.98259964, 4716.02067222, 1552.65526472, 1466.87656157,\n",
      "       1588.71244795, 1777.91805473, 8724.0056514 , 1796.16478287,\n",
      "       7417.80844735, 1703.83625818, 1586.30339084, 2026.01918501,\n",
      "       2543.56186794, 1612.23215348, 1467.81558596, 1643.90853659,\n",
      "       1471.02520821, 1633.46259667, 1401.04082391, 1690.92147531,\n",
      "       1409.61317668, 1580.03636228, 1440.76375669, 1606.81722189])\n",
      "Coordinates:\n",
      "  * time         (time) datetime64[ns] 2020-01-02T09:07:17 ... 2020-03-29T08:...\n",
      "    spatial_ref  int32 32734\n"
     ]
    }
   ],
   "source": [
    "print(ds.red.mean(dim=[\"x\", \"y\"]))"
   ]
  },
  {
   "cell_type": "markdown",
   "metadata": {},
   "source": [
    "This examples works the other way around. It calculates the standard deviation of every pixel (`x`, `y`) over all timesteps of the dataset `ds`."
   ]
  },
  {
   "cell_type": "code",
   "execution_count": 11,
   "metadata": {},
   "outputs": [
    {
     "name": "stdout",
     "output_type": "stream",
     "text": [
      "<xarray.DataArray 'red' (y: 82, x: 164)>\n",
      "array([[1636.93925089, 1641.63041885, 1647.10786937, ..., 1662.80544859,\n",
      "        1653.22843436, 1666.73809754],\n",
      "       [1631.5492486 , 1637.21969517, 1646.22226253, ..., 1655.82743853,\n",
      "        1646.29063314, 1663.08947964],\n",
      "       [1629.2644434 , 1637.58155013, 1646.90916924, ..., 1659.31952437,\n",
      "        1647.13530968, 1652.24026273],\n",
      "       ...,\n",
      "       [1608.0471555 , 1604.14777478, 1599.199301  , ..., 1666.62246238,\n",
      "        1698.08833329, 1729.19837633],\n",
      "       [1609.44859337, 1616.11444941, 1607.16664554, ..., 1637.41234051,\n",
      "        1664.94538801, 1700.12610553],\n",
      "       [1607.04050803, 1615.8350744 , 1613.74150312, ..., 1622.62118667,\n",
      "        1665.57591715, 1692.8323652 ]])\n",
      "Coordinates:\n",
      "  * y            (y) float64 7.28e+06 7.28e+06 7.28e+06 ... 7.28e+06 7.28e+06\n",
      "  * x            (x) float64 1.751e+05 1.751e+05 ... 1.767e+05 1.768e+05\n",
      "    spatial_ref  int32 32734\n"
     ]
    }
   ],
   "source": [
    "print(ds.red.std(dim=\"time\"))"
   ]
  },
  {
   "cell_type": "markdown",
   "metadata": {},
   "source": [
    "Remember, to access the raw `numpy` array that stores the values of the resulting `xarray.DataArrays`, the suffix `.values` is needed. This allows you to work with the \"actual\" data values."
   ]
  },
  {
   "cell_type": "code",
   "execution_count": 12,
   "metadata": {},
   "outputs": [
    {
     "name": "stdout",
     "output_type": "stream",
     "text": [
      "[ 11391001  14121316  10883784  10884384  10850927  14375723  33431206\n",
      "   9300546  10836657  12330295  12474720   8040560  11196661  67624220\n",
      "  11329227  10725750  10891288  13452006 139113704  19374024 114416628\n",
      "  15346272  12184974  17325448  30707694  12643794  11556935  12436906\n",
      "  10052716  12411204   9991866  12698768   9511944  12080506   9737017\n",
      "  11594178]\n"
     ]
    }
   ],
   "source": [
    "print(ds.blue.sum(dim=[\"x\",\"y\"]).values)"
   ]
  },
  {
   "cell_type": "markdown",
   "metadata": {},
   "source": [
    "### 2) Conditional Operation"
   ]
  },
  {
   "cell_type": "markdown",
   "metadata": {},
   "source": [
    "Using conditional operation can be very helpful when we need to analyse satellite scenes or pixels lies within our interests. The `where()` function provides the option to **mask** a `xarray.Dataset` based on a logical condition. By default, the function converts all values that match the condition to NaN values. This is extremly useful when applied in combination with a binary mask to mask your data to the desired values. The argument `other` let´s you define a subset value for all values that match the condition (default is `nan`). The argument `drop` drops all values which do not match with the condition.\n",
    "The following example masks the datatset `ds` to only the values which have a reflectance value of greater than 700 in the `red` band."
   ]
  },
  {
   "cell_type": "code",
   "execution_count": 13,
   "metadata": {},
   "outputs": [
    {
     "name": "stdout",
     "output_type": "stream",
     "text": [
      "<xarray.Dataset>\n",
      "Dimensions:      (time: 36, x: 164, y: 82)\n",
      "Coordinates:\n",
      "  * time         (time) datetime64[ns] 2020-01-02T09:07:17 ... 2020-03-29T08:...\n",
      "  * y            (y) float64 7.28e+06 7.28e+06 7.28e+06 ... 7.28e+06 7.28e+06\n",
      "  * x            (x) float64 1.751e+05 1.751e+05 ... 1.767e+05 1.768e+05\n",
      "    spatial_ref  int32 32734\n",
      "Data variables:\n",
      "    blue         (time, y, x) float64 823.0 861.0 889.0 ... 804.0 783.0 733.0\n",
      "    green        (time, y, x) float64 1.12e+03 1.146e+03 ... 1.124e+03 1.092e+03\n",
      "    red          (time, y, x) float64 1.56e+03 1.596e+03 ... 1.518e+03 1.448e+03\n",
      "Attributes:\n",
      "    crs:           EPSG:32734\n",
      "    grid_mapping:  spatial_ref\n"
     ]
    }
   ],
   "source": [
    "print(ds.where(ds.red > 700))"
   ]
  },
  {
   "cell_type": "markdown",
   "metadata": {},
   "source": [
    "This code subsets all zeros in the dataset `ds` with the new value -9999."
   ]
  },
  {
   "cell_type": "code",
   "execution_count": 14,
   "metadata": {},
   "outputs": [
    {
     "name": "stdout",
     "output_type": "stream",
     "text": [
      "<xarray.Dataset>\n",
      "Dimensions:      (time: 36, x: 164, y: 82)\n",
      "Coordinates:\n",
      "  * time         (time) datetime64[ns] 2020-01-02T09:07:17 ... 2020-03-29T08:...\n",
      "  * y            (y) float64 7.28e+06 7.28e+06 7.28e+06 ... 7.28e+06 7.28e+06\n",
      "  * x            (x) float64 1.751e+05 1.751e+05 ... 1.767e+05 1.768e+05\n",
      "    spatial_ref  int32 32734\n",
      "Data variables:\n",
      "    blue         (time, y, x) int16 823 861 889 769 698 ... 854 844 804 783 733\n",
      "    green        (time, y, x) int16 1120 1146 1190 1086 ... 1182 1178 1124 1092\n",
      "    red          (time, y, x) int16 1560 1596 1634 1530 ... 1632 1560 1518 1448\n",
      "Attributes:\n",
      "    crs:           EPSG:32734\n",
      "    grid_mapping:  spatial_ref\n"
     ]
    }
   ],
   "source": [
    "print(ds.where(ds.red != 0, other = -9999))"
   ]
  },
  {
   "cell_type": "markdown",
   "metadata": {},
   "source": [
    "The implemented `xarray` function `isin()` allows to **test each value** of `xarray.Dataset` or `xarray.DataArray` whether it is in the elements defined within the function. It returns a boolean array which can be used as a mask.\n",
    "This example checks all the values of the `red` measurement if the value is in an array from 0 to 550."
   ]
  },
  {
   "cell_type": "code",
   "execution_count": 15,
   "metadata": {},
   "outputs": [
    {
     "name": "stdout",
     "output_type": "stream",
     "text": [
      "<xarray.DataArray 'red' (time: 36, y: 82, x: 164)>\n",
      "array([[[False, False, False, ..., False, False, False],\n",
      "        [False, False, False, ..., False, False, False],\n",
      "        [False, False, False, ..., False, False, False],\n",
      "        ...,\n",
      "        [False, False, False, ..., False, False, False],\n",
      "        [False, False, False, ..., False, False, False],\n",
      "        [False, False, False, ..., False, False, False]],\n",
      "\n",
      "       [[False, False, False, ..., False, False, False],\n",
      "        [False, False, False, ..., False, False, False],\n",
      "        [False, False, False, ..., False, False, False],\n",
      "        ...,\n",
      "        [False, False, False, ..., False, False, False],\n",
      "        [False, False, False, ..., False, False, False],\n",
      "        [False, False, False, ..., False, False, False]],\n",
      "\n",
      "       [[False, False, False, ..., False, False, False],\n",
      "        [False, False, False, ..., False, False, False],\n",
      "        [False, False, False, ..., False, False, False],\n",
      "        ...,\n",
      "...\n",
      "        ...,\n",
      "        [False, False, False, ..., False, False, False],\n",
      "        [False, False, False, ..., False, False, False],\n",
      "        [False, False, False, ..., False, False, False]],\n",
      "\n",
      "       [[False, False, False, ..., False, False, False],\n",
      "        [False, False, False, ..., False, False, False],\n",
      "        [False, False, False, ..., False, False, False],\n",
      "        ...,\n",
      "        [False, False, False, ..., False, False, False],\n",
      "        [False, False, False, ..., False, False, False],\n",
      "        [False, False, False, ..., False, False, False]],\n",
      "\n",
      "       [[False, False, False, ..., False, False, False],\n",
      "        [False, False, False, ..., False, False, False],\n",
      "        [False, False, False, ..., False, False, False],\n",
      "        ...,\n",
      "        [False, False, False, ..., False, False, False],\n",
      "        [False, False, False, ..., False, False, False],\n",
      "        [False, False, False, ..., False, False, False]]])\n",
      "Coordinates:\n",
      "  * time         (time) datetime64[ns] 2020-01-02T09:07:17 ... 2020-03-29T08:...\n",
      "  * y            (y) float64 7.28e+06 7.28e+06 7.28e+06 ... 7.28e+06 7.28e+06\n",
      "  * x            (x) float64 1.751e+05 1.751e+05 ... 1.767e+05 1.768e+05\n",
      "    spatial_ref  int32 32734\n"
     ]
    }
   ],
   "source": [
    "mask_red = ds.red.isin(range(550))\n",
    "print(mask_red)"
   ]
  },
  {
   "cell_type": "markdown",
   "metadata": {},
   "source": [
    "The created mask can easily be combined with the `where()` function to filter the dataset based on the predefined mask. In this case the `ds` dataset is masked with previously defined mask `mask_red`, which was based on a logical test if values of the `red` band are within a certain range of values."
   ]
  },
  {
   "cell_type": "code",
   "execution_count": 16,
   "metadata": {},
   "outputs": [
    {
     "name": "stdout",
     "output_type": "stream",
     "text": [
      "<xarray.Dataset>\n",
      "Dimensions:      (time: 36, x: 164, y: 82)\n",
      "Coordinates:\n",
      "  * time         (time) datetime64[ns] 2020-01-02T09:07:17 ... 2020-03-29T08:...\n",
      "  * y            (y) float64 7.28e+06 7.28e+06 7.28e+06 ... 7.28e+06 7.28e+06\n",
      "  * x            (x) float64 1.751e+05 1.751e+05 ... 1.767e+05 1.768e+05\n",
      "    spatial_ref  int32 32734\n",
      "Data variables:\n",
      "    blue         (time, y, x) float64 nan nan nan nan nan ... nan nan nan nan\n",
      "    green        (time, y, x) float64 nan nan nan nan nan ... nan nan nan nan\n",
      "    red          (time, y, x) float64 nan nan nan nan nan ... nan nan nan nan\n",
      "Attributes:\n",
      "    crs:           EPSG:32734\n",
      "    grid_mapping:  spatial_ref\n"
     ]
    }
   ],
   "source": [
    "print(ds.where(mask_red))"
   ]
  },
  {
   "cell_type": "markdown",
   "metadata": {},
   "source": [
    "### 3) Resampling\n",
    "Working with time series data, resampling is necessary if we want the data product aligns with the temporal window are interested in."
   ]
  },
  {
   "cell_type": "markdown",
   "metadata": {},
   "source": [
    " - **resample()**\n",
    "\n",
    "The **`resample()` method** allows to summarise the `xarray.Dataset` to bigger or smaller chunks based on a dimension. It handels both upsampling and downsampling. The argument `time` needs to be defined like a datetime-like coordinate. In the following example we resample the `ds` dataset to a monthly time intervall (`time = \"m\"`) and than calculate the median value for every resample chunk. _(this process takes a little while to run)_"
   ]
  },
  {
   "cell_type": "code",
   "execution_count": 17,
   "metadata": {},
   "outputs": [
    {
     "name": "stdout",
     "output_type": "stream",
     "text": [
      "<xarray.Dataset>\n",
      "Dimensions:      (time: 3, x: 164, y: 82)\n",
      "Coordinates:\n",
      "  * time         (time) datetime64[ns] 2020-01-31 2020-02-29 2020-03-31\n",
      "  * y            (y) float64 7.28e+06 7.28e+06 7.28e+06 ... 7.28e+06 7.28e+06\n",
      "  * x            (x) float64 1.751e+05 1.751e+05 ... 1.767e+05 1.768e+05\n",
      "    spatial_ref  int32 32734\n",
      "Data variables:\n",
      "    blue         (time, y, x) float64 773.0 788.5 816.0 ... 845.5 817.0 770.5\n",
      "    green        (time, y, x) float64 1.096e+03 1.071e+03 ... 1.138e+03 1.1e+03\n",
      "    red          (time, y, x) float64 1.532e+03 1.48e+03 ... 1.524e+03 1.439e+03\n"
     ]
    }
   ],
   "source": [
    "print(ds.resample(time='m').median())"
   ]
  },
  {
   "cell_type": "markdown",
   "metadata": {},
   "source": [
    " - **groupby() method**\n",
    "\n",
    "The **`groupby()` method** can also be used within the `xarray` library to *aggregate data over time*. Time aggregation arguments can be e.g. \"time.year\", \"time.season\", \"time.month\", \"time.week\", \"time.day\".\n",
    "The code below groups the `ds` dataset into two groups by year. Therefore, a new \"dimension\" `year` is created. Then the median for each `year` is calculated. _(this process takes a little while to run)_"
   ]
  },
  {
   "cell_type": "code",
   "execution_count": 18,
   "metadata": {},
   "outputs": [
    {
     "name": "stdout",
     "output_type": "stream",
     "text": [
      "<xarray.Dataset>\n",
      "Dimensions:      (x: 164, y: 82, year: 1)\n",
      "Coordinates:\n",
      "  * y            (y) float64 7.28e+06 7.28e+06 7.28e+06 ... 7.28e+06 7.28e+06\n",
      "  * x            (x) float64 1.751e+05 1.751e+05 ... 1.767e+05 1.768e+05\n",
      "    spatial_ref  int32 32734\n",
      "  * year         (year) int64 2020\n",
      "Data variables:\n",
      "    blue         (year, y, x) float64 797.5 799.5 840.0 ... 925.5 897.5 838.0\n",
      "    green        (year, y, x) float64 1.08e+03 1.085e+03 ... 1.219e+03 1.171e+03\n",
      "    red          (year, y, x) float64 1.52e+03 1.498e+03 ... 1.649e+03 1.56e+03\n"
     ]
    }
   ],
   "source": [
    "print(ds.groupby(\"time.year\").median(dim=\"time\"))"
   ]
  },
  {
   "cell_type": "markdown",
   "metadata": {},
   "source": [
    "### 4) Interpolation\n",
    "Interpolation is a common solution dealing with missing remote sensing data, either caused by coarse temporal resolution of the satellite, high cloud cover or bad quality of the scenes. For example, sometimes a scene of a specfic date is not available in the dataset. With the implemented `interp()` it is possible to **interpolate data** for predefined time steps. The function takes the next usable scene before and after the specified date and interpolates their values (default interpolation method is \"linear\") to build a new `xarray.Dataset`.\n",
    "\n",
    "In this example, the `ds` dataset has missing scenes on the \"2020-04-02\" and \"2020-04-05\". The `interp()` function builds two \"new\" scenes based on an linear interpolation from the two measurments before and after the new time step."
   ]
  },
  {
   "cell_type": "code",
   "execution_count": 19,
   "metadata": {},
   "outputs": [
    {
     "name": "stdout",
     "output_type": "stream",
     "text": [
      "<xarray.DataArray 'time' (time: 36)>\n",
      "array(['2020-01-02T09:07:17.000000000', '2020-01-04T08:57:22.000000000',\n",
      "       '2020-01-07T09:07:17.000000000', '2020-01-09T08:57:21.000000000',\n",
      "       '2020-01-12T09:07:16.000000000', '2020-01-14T08:57:21.000000000',\n",
      "       '2020-01-17T09:07:16.000000000', '2020-01-19T08:57:20.000000000',\n",
      "       '2020-01-22T09:07:16.000000000', '2020-01-24T08:57:20.000000000',\n",
      "       '2020-01-27T09:07:15.000000000', '2020-01-29T08:57:19.000000000',\n",
      "       '2020-02-01T09:07:14.000000000', '2020-02-03T08:57:20.000000000',\n",
      "       '2020-02-06T09:07:16.000000000', '2020-02-08T08:57:19.000000000',\n",
      "       '2020-02-11T09:07:15.000000000', '2020-02-13T08:57:22.000000000',\n",
      "       '2020-02-16T09:07:18.000000000', '2020-02-18T08:57:21.000000000',\n",
      "       '2020-02-21T09:07:17.000000000', '2020-02-23T08:57:23.000000000',\n",
      "       '2020-02-26T09:07:19.000000000', '2020-02-28T08:57:22.000000000',\n",
      "       '2020-03-02T09:07:18.000000000', '2020-03-04T08:57:24.000000000',\n",
      "       '2020-03-07T09:07:20.000000000', '2020-03-09T08:57:23.000000000',\n",
      "       '2020-03-12T09:07:18.000000000', '2020-03-14T08:57:25.000000000',\n",
      "       '2020-03-17T09:07:20.000000000', '2020-03-19T08:57:23.000000000',\n",
      "       '2020-03-22T09:07:18.000000000', '2020-03-24T08:57:24.000000000',\n",
      "       '2020-03-27T09:07:20.000000000', '2020-03-29T08:57:23.000000000'],\n",
      "      dtype='datetime64[ns]')\n",
      "Coordinates:\n",
      "  * time         (time) datetime64[ns] 2020-01-02T09:07:17 ... 2020-03-29T08:...\n",
      "    spatial_ref  int32 32734\n",
      "Attributes:\n",
      "    units:    seconds since 1970-01-01 00:00:00\n"
     ]
    }
   ],
   "source": [
    "print(ds.time)"
   ]
  },
  {
   "cell_type": "code",
   "execution_count": 20,
   "metadata": {},
   "outputs": [
    {
     "name": "stdout",
     "output_type": "stream",
     "text": [
      "<xarray.Dataset>\n",
      "Dimensions:      (time: 2, x: 164, y: 82)\n",
      "Coordinates:\n",
      "  * y            (y) float64 7.28e+06 7.28e+06 7.28e+06 ... 7.28e+06 7.28e+06\n",
      "  * x            (x) float64 1.751e+05 1.751e+05 ... 1.767e+05 1.768e+05\n",
      "    spatial_ref  int32 32734\n",
      "  * time         (time) datetime64[ns] 2020-03-02 2020-03-05\n",
      "Data variables:\n",
      "    blue         (time, y, x) float64 1.417e+03 1.681e+03 ... 892.8 825.9\n",
      "    green        (time, y, x) float64 1.604e+03 1.784e+03 ... 1.135e+03\n",
      "    red          (time, y, x) float64 1.815e+03 1.934e+03 ... 1.484e+03\n",
      "Attributes:\n",
      "    crs:           EPSG:32734\n",
      "    grid_mapping:  spatial_ref\n"
     ]
    }
   ],
   "source": [
    "ds_interp = ds.interp(time=[\"2020-03-02\", \"2020-03-05\"])\n",
    "print(ds_interp)"
   ]
  },
  {
   "cell_type": "markdown",
   "metadata": {},
   "source": [
    "The `merge()` function allows to **merge/join** `xarray.Datasets` or variables. By default the `merge()` function uses an \"inner\" join as merging operation. \n",
    "In our example the interpolated `xarray.Dataset` created above is merged to the `ds` dataset by using the default `merge()` function."
   ]
  },
  {
   "cell_type": "code",
   "execution_count": 21,
   "metadata": {},
   "outputs": [
    {
     "name": "stdout",
     "output_type": "stream",
     "text": [
      "<xarray.Dataset>\n",
      "Dimensions:      (time: 38, x: 164, y: 82)\n",
      "Coordinates:\n",
      "  * time         (time) datetime64[ns] 2020-01-02T09:07:17 ... 2020-03-29T08:...\n",
      "  * y            (y) float64 7.28e+06 7.28e+06 7.28e+06 ... 7.28e+06 7.28e+06\n",
      "  * x            (x) float64 1.751e+05 1.751e+05 ... 1.767e+05 1.768e+05\n",
      "    spatial_ref  int32 32734\n",
      "Data variables:\n",
      "    blue         (time, y, x) float64 823.0 861.0 889.0 ... 804.0 783.0 733.0\n",
      "    green        (time, y, x) float64 1.12e+03 1.146e+03 ... 1.124e+03 1.092e+03\n",
      "    red          (time, y, x) float64 1.56e+03 1.596e+03 ... 1.518e+03 1.448e+03\n",
      "Attributes:\n",
      "    crs:           EPSG:32734\n",
      "    grid_mapping:  spatial_ref\n"
     ]
    }
   ],
   "source": [
    "print(ds.merge(ds_interp))"
   ]
  },
  {
   "cell_type": "markdown",
   "metadata": {},
   "source": [
    "The `xarray` package contains a variety of other useful functions in addition to those shown here. There is a function for almost every operation needed in data analysis. For more information about the `xarray` package visit the [documentation website](http://xarray.pydata.org/en/stable/) or work through the [notebook]() in the \"intro_to_python\" folder.\n",
    "\n",
    "The `xarray.Datasets` in the eo2cube datacube environment are a useful and effective structure for handeling remote sensing raster data. In this notebook you learned the basic structure and application methods of `xarray.Datasets`and `xarray.DataArrays`. However, it is very useful to not only work with the \"raw\" datasets and values. Sometimes it is necessary to get a visual overview of the data. The next [notebook 06](06_plotting.ipynb) will cover how to plot `xarray` raster data nicely and efficient. This is a very useful application, as it is often more convenient to visualize the raster data."
   ]
  },
  {
   "cell_type": "markdown",
   "metadata": {},
   "source": [
    "## Recommended next steps\n",
    "\n",
    "To continue working through the notebooks in this beginner's guide, the following notebooks are designed to be worked through in the following order:\n",
    "\n",
    "1. [Jupyter Notebooks](https://github.com/eo2cube/eo2cube_notebooks/blob/main/get_started/intro_to_eo2cube/01_jupyter_introduction.ipynb)\n",
    "2. [eo2cube](https://github.com/eo2cube/eo2cube_notebooks/blob/main/get_started/intro_to_eo2cube/02_eo2cube_introduction.ipynb)\n",
    "3. [Loading Data](https://github.com/eo2cube/eo2cube_notebooks/blob/main/get_started/intro_to_eo2cube/03_data_lookup_and_loading.ipynb)\n",
    "4. [Xarray I: Data Structure](https://github.com/eo2cube/eo2cube_notebooks/blob/main/get_started/intro_to_eo2cube/04_xarrayI_data_structure.ipynb)\n",
    "5. ***Xarray II: Index and Statistics (this notebook)***\n",
    "6. [Plotting data](https://github.com/eo2cube/eo2cube_notebooks/blob/main/get_started/intro_to_eo2cube/06_plotting_basics.ipynb)\n",
    "7. [Spatial analysis](https://github.com/eo2cube/eo2cube_notebooks/blob/main/get_started/intro_to_eo2cube/07_basic_analysis.ipynb)\n",
    "8. [Parallel processing with Dask](https://github.com/eo2cube/eo2cube_notebooks/blob/main/get_started/intro_to_eo2cube/08_parallel_processing_with_dask.ipynb)\n",
    "\n",
    "The additional notebooks are designed for users to build up both basic and advanced skills which are not covered by the beginner's guide. Self-motivated users can go through them according to their own needs. They act as complements for the guide:\n",
    "<br>\n",
    "\n",
    "1. [Python's file management tools](https://github.com/eo2cube/eo2cube_notebooks/blob/main/get_started/intro_to_eo2cube/I_file_management.ipynb)\n",
    "2. [Image Processing basics using NumPy and Matplotlib](https://github.com/eo2cube/eo2cube_notebooks/blob/main/get_started/intro_to_eo2cube/II_numpy_image_processing.ipynb)\n",
    "3. [Vector Processing](https://github.com/eo2cube/eo2cube_notebooks/blob/main/get_started/intro_to_eo2cube/III_process_vector_data.ipynb)\n",
    "4. [Advanced Plotting](https://github.com/eo2cube/eo2cube_notebooks/blob/main/get_started/intro_to_eo2cube/IV_advanced_plotting.ipynb)"
   ]
  },
  {
   "cell_type": "markdown",
   "metadata": {},
   "source": [
    "***\n",
    "\n",
    "## Additional information\n",
    "\n",
    "<font size=\"2\">This notebook for the usage in the Open Data Cube entities of the [Department of Remote Sensing](http://remote-sensing.org/), [University of Wuerzburg](https://www.uni-wuerzburg.de/startseite/), is adapted from [Geoscience Australia](https://github.com/GeoscienceAustralia/dea-notebooks), published using the Apache License, Version 2.0. Thanks! </font>\n",
    "\n",
    "**License:** The code in this notebook is licensed under the [Apache License, Version 2.0](https://www.apache.org/licenses/LICENSE-2.0). \n",
    "Digital Earth Australia data is licensed under the [Creative Commons by Attribution 4.0](https://creativecommons.org/licenses/by/4.0/) license.\n",
    "\n",
    "\n",
    "**Contact:** If you would like to report an issue with this notebook, you can file one on [Github](https://github.com).\n",
    "\n",
    "**Last modified:** February 2021"
   ]
  }
 ],
 "metadata": {
  "kernelspec": {
   "display_name": "Python 3",
   "language": "python",
   "name": "python3"
  },
  "language_info": {
   "codemirror_mode": {
    "name": "ipython",
    "version": 3
   },
   "file_extension": ".py",
   "mimetype": "text/x-python",
   "name": "python",
   "nbconvert_exporter": "python",
   "pygments_lexer": "ipython3",
   "version": "3.8.8"
  }
 },
 "nbformat": 4,
 "nbformat_minor": 4
}
