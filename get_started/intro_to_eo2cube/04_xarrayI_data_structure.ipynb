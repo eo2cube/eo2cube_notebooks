{
 "cells": [
  {
   "cell_type": "markdown",
   "metadata": {},
   "source": [
    "<img align=\"right\" src=\"../../additional_data/banner_siegel.png\" style=\"width:1100px;\">"
   ]
  },
  {
   "cell_type": "markdown",
   "metadata": {},
   "source": [
    "# Xarray-I: Data Structure \n",
    "\n",
    "* [**Sign up to the JupyterHub**](https://www.phenocube.org/) to run this notebook interactively from your browser\n",
    "* **Compatibility:** Notebook currently compatible with the Open Data Cube environments of the University of Wuerzburg\n",
    "* **Prerequisites**: Users of this notebook should have a basic understanding of:\n",
    "    * How to run a [Jupyter notebook](01_jupyter_introduction.ipynb)\n",
    "    * The basic structure of the eo2cube [satellite datasets](02_eo2cube_introduction.ipynb)\n",
    "    * How to [lookup and load data](03_data_lookup_and_loading.ipynb)"
   ]
  },
  {
   "cell_type": "markdown",
   "metadata": {},
   "source": [
    "## Background\n",
    "\n",
    "In the previous notebook, we experienced that the data we wanna access are loaded in a form called **`xarray.dataset`**. This is the form in which earth observation data are usually stored in a datacube.\n",
    "\n",
    "**`xarray`** is an open source project and Python package which offers a toolkit for working with ***multi-dimensional arrays*** of data. **`xarray.dataset`** is an in-memory representation of a netCDF (network Common Data Form) file. Understanding the structure of a **`xarray.dataset`** is the key to enable us work with these data. Thus, in this notebook, we are mainly dedicated to helping users of our datacube understand its data structure.\n",
    "\n",
    "Firstly let's come to the end stage of the previous notebook, where we have loaded a data product. The data product \"s2_l2a_bavaria\" is used as example in this notebook."
   ]
  },
  {
   "cell_type": "markdown",
   "metadata": {},
   "source": [
    "## Description\n",
    "\n",
    "The following topics are convered in this notebook:\n",
    "* What is inside a `xrray.dataset` (the structure)?\n",
    "* (Basic) Subset Dataset / DataArray\n",
    "* Reshape a Dataset"
   ]
  },
  {
   "cell_type": "code",
   "execution_count": 1,
   "metadata": {},
   "outputs": [
    {
     "name": "stdout",
     "output_type": "stream",
     "text": [
      "<xarray.Dataset>\n",
      "Dimensions:      (time: 165, x: 124, y: 84)\n",
      "Coordinates:\n",
      "  * time         (time) datetime64[ns] 2018-10-01T10:15:58 ... 2019-03-30T10:...\n",
      "  * y            (y) float64 5.308e+06 5.308e+06 ... 5.307e+06 5.307e+06\n",
      "  * x            (x) float64 7.612e+05 7.612e+05 ... 7.624e+05 7.624e+05\n",
      "    spatial_ref  int32 25832\n",
      "Data variables:\n",
      "    blue         (time, y, x) int16 8744 8704 8608 8600 8432 ... 519 525 499 473\n",
      "    green        (time, y, x) int16 8632 8624 8560 8504 8496 ... 736 760 738 726\n",
      "    red          (time, y, x) int16 8608 8608 8544 8544 8440 ... 450 469 448 433\n",
      "Attributes:\n",
      "    crs:           EPSG:25832\n",
      "    grid_mapping:  spatial_ref\n"
     ]
    }
   ],
   "source": [
    "import datacube\n",
    "# To access and work with available data\n",
    "\n",
    "import pandas as pd\n",
    "# To format tables\n",
    "\n",
    "from odc.ui import DcViewer \n",
    "# Provides an interface for interactively exploring the products available in the datacube\n",
    "\n",
    "from odc.ui import with_ui_cbk\n",
    "# Enables a progress bar when loading large amounts of data.\n",
    "\n",
    "import xarray as xr\n",
    "\n",
    "import matplotlib.pyplot as plt\n",
    "\n",
    "# Set config for displaying tables nicely\n",
    "# !! USEFUL !! otherwise parts of longer infos won't be displayed in tables\n",
    "pd.set_option(\"display.max_colwidth\", 200)\n",
    "pd.set_option(\"display.max_rows\", None)\n",
    "\n",
    "# Connect to DataCube\n",
    "# argument \"app\" --- user defined name for a session (e.g. choose one matching the purpose of this notebook)\n",
    "dc = datacube.Datacube(app = \"nb_understand_ndArrays\", config = '/home/datacube/.datacube.conf')\n",
    "\n",
    "# Load Data Product\n",
    "ds = dc.load(product = \"s2_l2a_bavaria\",\n",
    "             measurements = [\"blue\", \"green\", \"red\"],\n",
    "             longitude = [12.493, 12.509],\n",
    "             latitude = [47.861, 47.868],\n",
    "             time = (\"2018-10-01\", \"2019-03-31\"))\n",
    "\n",
    "print(ds)"
   ]
  },
  {
   "cell_type": "markdown",
   "metadata": {},
   "source": [
    "## **What is inside a `xarray.dataset`?**\n",
    "The figure below is a diagramm depicting the structure of the **`xarray.dataset`** we've just loaded. Combined with the diagramm, we hope you may better interpret the texts below explaining the data strucutre of a **`xarray.dataset`**.\n",
    "\n",
    "![xarray data structure](https://live.staticflickr.com/65535/51083605166_70dd29baa8_k.jpg)"
   ]
  },
  {
   "cell_type": "markdown",
   "metadata": {},
   "source": [
    "As read from the output block, this dataset has three ***Data Variables*** , \"blue\", \"green\" and \"red\" (shown with colors in the diagramm), referring to individual spectral band.\n",
    "\n",
    "Each data variable can be regarded as a **multi-dimensional *Data Array*** of same structure; in this case, it is a **three-dimensional array** (shown as 3D Cube in the diagramm) where `time`, `x` and `y` are its ***Dimensions*** (shown as axis along each cube in the diagramm).\n",
    "\n",
    "In this dataset, there are 165 ***Coordinates*** under `time` dimension, which means there are 165 time steps along the `time` axis. There are 124 coordinates under `x` dimension and 84 coordinates under `y` dimension, indicating that there are 124 pixels along `x` axis and 84 pixels along `y` axis.\n",
    "\n",
    "As for the term ***Dataset***, it is like a *Container* holding all the multi-dimensional arrays of same structure (shown as the red-lined box holding all 3D Cubes in the diagramm).\n",
    "\n",
    "So this instance dataset has a spatial extent of 124 by 84 pixels at given lon/lat locations, spans over 165 time stamps and 3 spectral band.\n",
    "\n",
    "In summary, ***`xarray.dataset`*** is a dictionary-like container of ***`DataArrays`***, of which each is a labeled, n-dimensional array holding 4 properties:\n",
    "* **Data Variables (`values`)**: A `numpy.ndarray` holding values *(e.g. reflectance values of spectral bands)*.\n",
    "* **Dimensions (`dims`)**: Dimension names for each axis *(e.g. 'x', 'y', 'time')*.\n",
    "* **Coordinates (`coords`)**: Coordinates of each value along each axis *(e.g. longitudes along 'x'-axis, latitudes along 'y'-axis, datetime objects along 'time'-axis)*\n",
    "* **Attributes (`attrs`)**: A dictionary(`dict`) containing Metadata."
   ]
  },
  {
   "cell_type": "markdown",
   "metadata": {},
   "source": [
    "Now let's deconstruct the dataset we have just loaded a bit further to have things more clarified!:D"
   ]
  },
  {
   "cell_type": "markdown",
   "metadata": {},
   "source": [
    "* **To check existing dimensions of a dataset**"
   ]
  },
  {
   "cell_type": "code",
   "execution_count": 2,
   "metadata": {},
   "outputs": [
    {
     "data": {
      "text/plain": [
       "Frozen(SortedKeysDict({'time': 165, 'y': 84, 'x': 124}))"
      ]
     },
     "execution_count": 2,
     "metadata": {},
     "output_type": "execute_result"
    }
   ],
   "source": [
    "ds.dims"
   ]
  },
  {
   "cell_type": "markdown",
   "metadata": {},
   "source": [
    "* **To check the coordinates of a dataset**"
   ]
  },
  {
   "cell_type": "code",
   "execution_count": 3,
   "metadata": {},
   "outputs": [
    {
     "data": {
      "text/plain": [
       "Coordinates:\n",
       "  * time         (time) datetime64[ns] 2018-10-01T10:15:58 ... 2019-03-30T10:...\n",
       "  * y            (y) float64 5.308e+06 5.308e+06 ... 5.307e+06 5.307e+06\n",
       "  * x            (x) float64 7.612e+05 7.612e+05 ... 7.624e+05 7.624e+05\n",
       "    spatial_ref  int32 25832"
      ]
     },
     "execution_count": 3,
     "metadata": {},
     "output_type": "execute_result"
    }
   ],
   "source": [
    "ds.coords"
   ]
  },
  {
   "cell_type": "markdown",
   "metadata": {},
   "source": [
    "* **To check all coordinates along a specific dimension**\n",
    "<br>\n",
    "<img src=https://live.staticflickr.com/65535/51115452191_ec160d4514_o.png, width=\"450\">"
   ]
  },
  {
   "cell_type": "code",
   "execution_count": 4,
   "metadata": {},
   "outputs": [
    {
     "name": "stdout",
     "output_type": "stream",
     "text": [
      "<xarray.DataArray 'time' (time: 165)>\n",
      "array(['2018-10-01T10:15:58.000000000', '2018-10-03T10:00:23.000000000',\n",
      "       '2018-10-04T10:20:18.000000000', '2018-10-06T10:16:51.000000000',\n",
      "       '2018-10-08T10:00:40.000000000', '2018-10-09T10:25:59.000000000',\n",
      "       '2018-10-11T10:10:20.000000000', '2018-10-13T10:00:23.000000000',\n",
      "       '2018-10-14T10:26:27.000000000', '2018-10-16T10:10:21.000000000',\n",
      "       '2018-10-18T10:02:15.000000000', '2018-10-19T10:20:29.000000000',\n",
      "       '2018-10-21T10:12:01.000000000', '2018-10-23T10:01:59.000000000',\n",
      "       '2018-10-24T10:24:28.000000000', '2018-10-26T10:11:08.000000000',\n",
      "       '2018-10-28T10:01:17.000000000', '2018-10-29T10:21:31.000000000',\n",
      "       '2018-10-31T10:11:40.000000000', '2018-11-02T10:01:45.000000000',\n",
      "       '2018-11-03T10:23:38.000000000', '2018-11-05T10:14:04.000000000',\n",
      "       '2018-11-07T10:07:24.000000000', '2018-11-08T10:27:12.000000000',\n",
      "       '2018-11-08T10:27:18.000000000', '2018-11-10T10:17:22.000000000',\n",
      "       '2018-11-10T10:17:24.000000000', '2018-11-12T10:07:21.000000000',\n",
      "       '2018-11-15T10:17:18.000000000', '2018-11-15T10:17:21.000000000',\n",
      "       '2018-11-17T10:07:24.000000000', '2018-11-18T10:27:10.000000000',\n",
      "       '2018-11-18T10:27:16.000000000', '2018-11-20T10:17:21.000000000',\n",
      "       '2018-11-20T10:17:23.000000000', '2018-11-22T10:07:20.000000000',\n",
      "       '2018-11-23T10:27:13.000000000', '2018-11-23T10:27:19.000000000',\n",
      "       '2018-11-25T10:17:16.000000000', '2018-11-25T10:17:19.000000000',\n",
      "       '2018-11-27T10:07:23.000000000', '2018-11-28T10:27:08.000000000',\n",
      "       '2018-11-28T10:27:14.000000000', '2018-11-30T10:17:20.000000000',\n",
      "       '2018-11-30T10:17:22.000000000', '2018-12-02T10:07:18.000000000',\n",
      "       '2018-12-03T10:27:12.000000000', '2018-12-03T10:27:18.000000000',\n",
      "       '2018-12-05T10:17:16.000000000', '2018-12-05T10:17:18.000000000',\n",
      "       '2018-12-07T10:07:21.000000000', '2018-12-08T10:27:08.000000000',\n",
      "       '2018-12-08T10:27:14.000000000', '2018-12-10T10:17:18.000000000',\n",
      "       '2018-12-10T10:17:20.000000000', '2018-12-12T10:07:18.000000000',\n",
      "       '2018-12-13T10:27:10.000000000', '2018-12-13T10:27:16.000000000',\n",
      "       '2018-12-15T10:17:16.000000000', '2018-12-15T10:17:18.000000000',\n",
      "       '2018-12-17T10:07:21.000000000', '2018-12-18T10:27:08.000000000',\n",
      "       '2018-12-18T10:27:14.000000000', '2018-12-20T10:17:19.000000000',\n",
      "       '2018-12-20T10:17:22.000000000', '2018-12-22T10:07:19.000000000',\n",
      "       '2018-12-23T10:27:13.000000000', '2018-12-23T10:27:18.000000000',\n",
      "       '2018-12-25T10:17:17.000000000', '2018-12-25T10:17:19.000000000',\n",
      "       '2018-12-27T10:07:23.000000000', '2018-12-28T10:27:10.000000000',\n",
      "       '2018-12-28T10:27:16.000000000', '2018-12-30T10:17:21.000000000',\n",
      "       '2018-12-30T10:17:24.000000000', '2019-01-01T10:07:21.000000000',\n",
      "       '2019-01-02T10:27:14.000000000', '2019-01-02T10:27:20.000000000',\n",
      "       '2019-01-04T10:17:19.000000000', '2019-01-04T10:17:21.000000000',\n",
      "       '2019-01-06T10:07:25.000000000', '2019-01-07T10:27:12.000000000',\n",
      "       '2019-01-07T10:27:18.000000000', '2019-01-09T10:17:23.000000000',\n",
      "       '2019-01-09T10:17:25.000000000', '2019-01-11T10:07:22.000000000',\n",
      "       '2019-01-12T10:27:16.000000000', '2019-01-12T10:27:22.000000000',\n",
      "       '2019-01-14T10:17:20.000000000', '2019-01-14T10:17:22.000000000',\n",
      "       '2019-01-16T10:07:26.000000000', '2019-01-17T10:27:13.000000000',\n",
      "       '2019-01-17T10:27:19.000000000', '2019-01-19T10:17:24.000000000',\n",
      "       '2019-01-19T10:17:26.000000000', '2019-01-21T10:07:23.000000000',\n",
      "       '2019-01-22T10:27:17.000000000', '2019-01-22T10:27:23.000000000',\n",
      "       '2019-01-24T10:17:21.000000000', '2019-01-24T10:17:23.000000000',\n",
      "       '2019-01-26T10:07:27.000000000', '2019-01-27T10:27:13.000000000',\n",
      "       '2019-01-27T10:27:20.000000000', '2019-01-29T10:17:24.000000000',\n",
      "       '2019-01-29T10:17:27.000000000', '2019-01-31T10:07:24.000000000',\n",
      "       '2019-02-01T10:27:17.000000000', '2019-02-01T10:27:23.000000000',\n",
      "       '2019-02-03T10:17:21.000000000', '2019-02-03T10:17:23.000000000',\n",
      "       '2019-02-05T10:07:27.000000000', '2019-02-06T10:27:14.000000000',\n",
      "       '2019-02-06T10:27:20.000000000', '2019-02-08T10:17:24.000000000',\n",
      "       '2019-02-08T10:17:27.000000000', '2019-02-10T10:07:23.000000000',\n",
      "       '2019-02-11T10:27:17.000000000', '2019-02-11T10:27:23.000000000',\n",
      "       '2019-02-13T10:17:21.000000000', '2019-02-13T10:17:23.000000000',\n",
      "       '2019-02-15T10:07:27.000000000', '2019-02-16T10:27:13.000000000',\n",
      "       '2019-02-16T10:27:19.000000000', '2019-02-18T10:17:24.000000000',\n",
      "       '2019-02-18T10:17:26.000000000', '2019-02-20T10:07:23.000000000',\n",
      "       '2019-02-21T10:27:16.000000000', '2019-02-21T10:27:22.000000000',\n",
      "       '2019-02-23T10:17:20.000000000', '2019-02-23T10:17:22.000000000',\n",
      "       '2019-02-25T10:07:26.000000000', '2019-02-26T10:27:12.000000000',\n",
      "       '2019-02-26T10:27:18.000000000', '2019-02-28T10:17:23.000000000',\n",
      "       '2019-02-28T10:17:25.000000000', '2019-03-02T10:07:22.000000000',\n",
      "       '2019-03-03T10:27:15.000000000', '2019-03-03T10:27:21.000000000',\n",
      "       '2019-03-05T10:17:19.000000000', '2019-03-05T10:17:21.000000000',\n",
      "       '2019-03-07T10:07:24.000000000', '2019-03-08T10:27:11.000000000',\n",
      "       '2019-03-08T10:27:17.000000000', '2019-03-10T10:17:21.000000000',\n",
      "       '2019-03-10T10:17:24.000000000', '2019-03-12T10:07:22.000000000',\n",
      "       '2019-03-13T10:27:14.000000000', '2019-03-13T10:27:20.000000000',\n",
      "       '2019-03-15T10:17:21.000000000', '2019-03-15T10:17:23.000000000',\n",
      "       '2019-03-17T10:07:28.000000000', '2019-03-18T10:27:14.000000000',\n",
      "       '2019-03-18T10:27:20.000000000', '2019-03-20T10:17:23.000000000',\n",
      "       '2019-03-20T10:17:26.000000000', '2019-03-22T10:07:25.000000000',\n",
      "       '2019-03-23T10:27:17.000000000', '2019-03-23T10:27:23.000000000',\n",
      "       '2019-03-25T10:17:23.000000000', '2019-03-25T10:17:25.000000000',\n",
      "       '2019-03-27T10:07:28.000000000', '2019-03-28T10:27:16.000000000',\n",
      "       '2019-03-28T10:27:22.000000000', '2019-03-30T10:17:26.000000000',\n",
      "       '2019-03-30T10:17:28.000000000'], dtype='datetime64[ns]')\n",
      "Coordinates:\n",
      "  * time         (time) datetime64[ns] 2018-10-01T10:15:58 ... 2019-03-30T10:...\n",
      "    spatial_ref  int32 25832\n",
      "Attributes:\n",
      "    units:    seconds since 1970-01-01 00:00:00\n"
     ]
    }
   ],
   "source": [
    "print(ds.time)\n",
    "# OR\n",
    "#ds.coords['time']"
   ]
  },
  {
   "cell_type": "markdown",
   "metadata": {},
   "source": [
    "* **To check attributes of the dataset**"
   ]
  },
  {
   "cell_type": "code",
   "execution_count": 5,
   "metadata": {},
   "outputs": [
    {
     "data": {
      "text/plain": [
       "{'crs': 'EPSG:25832', 'grid_mapping': 'spatial_ref'}"
      ]
     },
     "execution_count": 5,
     "metadata": {},
     "output_type": "execute_result"
    }
   ],
   "source": [
    "ds.attrs"
   ]
  },
  {
   "cell_type": "markdown",
   "metadata": {},
   "source": [
    "## **Subset Dataset / DataArray**\n",
    "\n",
    "* **To select all data of \"blue\" band**\n",
    "<br>\n",
    "<img src=https://live.staticflickr.com/65535/51115092614_366cb774a8_o.png, width=\"350\">"
   ]
  },
  {
   "cell_type": "code",
   "execution_count": 6,
   "metadata": {},
   "outputs": [
    {
     "name": "stdout",
     "output_type": "stream",
     "text": [
      "<xarray.DataArray 'blue' (time: 165, y: 84, x: 124)>\n",
      "array([[[8744, 8704, 8608, ..., 8928, 8928, 8928],\n",
      "        [8720, 8632, 8536, ..., 8888, 8888, 8896],\n",
      "        [8680, 8672, 8528, ..., 8928, 8856, 8928],\n",
      "        ...,\n",
      "        [9088, 9056, 9080, ..., 9712, 9712, 9552],\n",
      "        [9048, 9008, 9056, ..., 9720, 9680, 9640],\n",
      "        [9096, 9056, 9032, ..., 9672, 9696, 9672]],\n",
      "\n",
      "       [[   0,    0,    0, ...,    0,    0,    0],\n",
      "        [   0,    0,    0, ...,    0,    0,    0],\n",
      "        [   0,    0,    0, ...,    0,    0,    0],\n",
      "        ...,\n",
      "        [   0,    0,    0, ...,    0,    0,    0],\n",
      "        [   0,    0,    0, ...,    0,    0,    0],\n",
      "        [   0,    0,    0, ...,    0,    0,    0]],\n",
      "\n",
      "       [[   0,    0,    0, ...,    0,    0,    0],\n",
      "        [   0,    0,    0, ...,    0,    0,    0],\n",
      "        [   0,    0,    0, ...,    0,    0,    0],\n",
      "        ...,\n",
      "...\n",
      "        ...,\n",
      "        [   0,    0,    0, ...,    0,    0,    0],\n",
      "        [   0,    0,    0, ...,    0,    0,    0],\n",
      "        [   0,    0,    0, ...,    0,    0,    0]],\n",
      "\n",
      "       [[ 430,  433,  429, ...,  584,  577,  575],\n",
      "        [ 441,  435,  453, ...,  598,  586,  589],\n",
      "        [ 457,  434,  446, ...,  572,  579,  579],\n",
      "        ...,\n",
      "        [ 662,  634,  529, ...,  502,  504,  497],\n",
      "        [ 694,  558,  503, ...,  528,  521,  502],\n",
      "        [ 700,  525,  473, ...,  539,  526,  490]],\n",
      "\n",
      "       [[ 422,  412,  408, ...,  575,  562,  570],\n",
      "        [ 409,  419,  433, ...,  593,  572,  578],\n",
      "        [ 440,  419,  436, ...,  557,  565,  562],\n",
      "        ...,\n",
      "        [ 657,  605,  524, ...,  482,  487,  487],\n",
      "        [ 695,  512,  450, ...,  506,  499,  488],\n",
      "        [ 664,  560,  493, ...,  525,  499,  473]]], dtype=int16)\n",
      "Coordinates:\n",
      "  * time         (time) datetime64[ns] 2018-10-01T10:15:58 ... 2019-03-30T10:...\n",
      "  * y            (y) float64 5.308e+06 5.308e+06 ... 5.307e+06 5.307e+06\n",
      "  * x            (x) float64 7.612e+05 7.612e+05 ... 7.624e+05 7.624e+05\n",
      "    spatial_ref  int32 25832\n",
      "Attributes:\n",
      "    units:         reflectance\n",
      "    nodata:        0\n",
      "    crs:           EPSG:25832\n",
      "    grid_mapping:  spatial_ref\n"
     ]
    }
   ],
   "source": [
    "print(ds.blue)\n",
    "# OR\n",
    "#ds['blue']"
   ]
  },
  {
   "cell_type": "code",
   "execution_count": 7,
   "metadata": {},
   "outputs": [
    {
     "name": "stdout",
     "output_type": "stream",
     "text": [
      "[[[8744 8704 8608 ... 8928 8928 8928]\n",
      "  [8720 8632 8536 ... 8888 8888 8896]\n",
      "  [8680 8672 8528 ... 8928 8856 8928]\n",
      "  ...\n",
      "  [9088 9056 9080 ... 9712 9712 9552]\n",
      "  [9048 9008 9056 ... 9720 9680 9640]\n",
      "  [9096 9056 9032 ... 9672 9696 9672]]\n",
      "\n",
      " [[   0    0    0 ...    0    0    0]\n",
      "  [   0    0    0 ...    0    0    0]\n",
      "  [   0    0    0 ...    0    0    0]\n",
      "  ...\n",
      "  [   0    0    0 ...    0    0    0]\n",
      "  [   0    0    0 ...    0    0    0]\n",
      "  [   0    0    0 ...    0    0    0]]\n",
      "\n",
      " [[   0    0    0 ...    0    0    0]\n",
      "  [   0    0    0 ...    0    0    0]\n",
      "  [   0    0    0 ...    0    0    0]\n",
      "  ...\n",
      "  [   0    0    0 ...    0    0    0]\n",
      "  [   0    0    0 ...    0    0    0]\n",
      "  [   0    0    0 ...    0    0    0]]\n",
      "\n",
      " ...\n",
      "\n",
      " [[   0    0    0 ...    0    0    0]\n",
      "  [   0    0    0 ...    0    0    0]\n",
      "  [   0    0    0 ...    0    0    0]\n",
      "  ...\n",
      "  [   0    0    0 ...    0    0    0]\n",
      "  [   0    0    0 ...    0    0    0]\n",
      "  [   0    0    0 ...    0    0    0]]\n",
      "\n",
      " [[ 430  433  429 ...  584  577  575]\n",
      "  [ 441  435  453 ...  598  586  589]\n",
      "  [ 457  434  446 ...  572  579  579]\n",
      "  ...\n",
      "  [ 662  634  529 ...  502  504  497]\n",
      "  [ 694  558  503 ...  528  521  502]\n",
      "  [ 700  525  473 ...  539  526  490]]\n",
      "\n",
      " [[ 422  412  408 ...  575  562  570]\n",
      "  [ 409  419  433 ...  593  572  578]\n",
      "  [ 440  419  436 ...  557  565  562]\n",
      "  ...\n",
      "  [ 657  605  524 ...  482  487  487]\n",
      "  [ 695  512  450 ...  506  499  488]\n",
      "  [ 664  560  493 ...  525  499  473]]]\n"
     ]
    }
   ],
   "source": [
    "# Only print pixel values\n",
    "print(ds.blue.values)"
   ]
  },
  {
   "cell_type": "markdown",
   "metadata": {},
   "source": [
    "* **To select blue band data at the first time stamp**\n",
    "<br>\n",
    "<img src=https://live.staticflickr.com/65535/51116131265_8464728bc1_o.png, width=\"350\">"
   ]
  },
  {
   "cell_type": "code",
   "execution_count": 8,
   "metadata": {},
   "outputs": [
    {
     "name": "stdout",
     "output_type": "stream",
     "text": [
      "<xarray.DataArray 'blue' (y: 84, x: 124)>\n",
      "array([[8744, 8704, 8608, ..., 8928, 8928, 8928],\n",
      "       [8720, 8632, 8536, ..., 8888, 8888, 8896],\n",
      "       [8680, 8672, 8528, ..., 8928, 8856, 8928],\n",
      "       ...,\n",
      "       [9088, 9056, 9080, ..., 9712, 9712, 9552],\n",
      "       [9048, 9008, 9056, ..., 9720, 9680, 9640],\n",
      "       [9096, 9056, 9032, ..., 9672, 9696, 9672]], dtype=int16)\n",
      "Coordinates:\n",
      "    time         datetime64[ns] 2018-10-01T10:15:58\n",
      "  * y            (y) float64 5.308e+06 5.308e+06 ... 5.307e+06 5.307e+06\n",
      "  * x            (x) float64 7.612e+05 7.612e+05 ... 7.624e+05 7.624e+05\n",
      "    spatial_ref  int32 25832\n",
      "Attributes:\n",
      "    units:         reflectance\n",
      "    nodata:        0\n",
      "    crs:           EPSG:25832\n",
      "    grid_mapping:  spatial_ref\n"
     ]
    }
   ],
   "source": [
    "print(ds.blue[0])"
   ]
  },
  {
   "cell_type": "markdown",
   "metadata": {},
   "source": [
    "* **To select blue band data at the first time stamp while the latitude is the largest in the defined spatial extent**\n",
    "<img src=https://live.staticflickr.com/65535/51115337046_aeb75d0d03_o.png, width=\"350\">"
   ]
  },
  {
   "cell_type": "code",
   "execution_count": 9,
   "metadata": {},
   "outputs": [
    {
     "name": "stdout",
     "output_type": "stream",
     "text": [
      "<xarray.DataArray 'blue' (x: 124)>\n",
      "array([8744, 8704, 8608, 8600, 8432, 8320, 8328, 8312, 8200, 8200, 8188,\n",
      "       8224, 8280, 8312, 8288, 8312, 8312, 8304, 8288, 8400, 8392, 8456,\n",
      "       8456, 8552, 8552, 8536, 8504, 8528, 8488, 8536, 8488, 8488, 8536,\n",
      "       8512, 8504, 8600, 8624, 8600, 8640, 8712, 8656, 8680, 8752, 8768,\n",
      "       8768, 8824, 8856, 8888, 8952, 9008, 9032, 8968, 8992, 9000, 9024,\n",
      "       8984, 9016, 8992, 9096, 9080, 9032, 9008, 9040, 9032, 9032, 8992,\n",
      "       8864, 8872, 8832, 8864, 8864, 8872, 8944, 8864, 8960, 8960, 8992,\n",
      "       9120, 9072, 8976, 8992, 9040, 9032, 9072, 9120, 9040, 9080, 9120,\n",
      "       9040, 9040, 9088, 9088, 8944, 8944, 8936, 8888, 8888, 8888, 8872,\n",
      "       8808, 8872, 8832, 8792, 8832, 8840, 8864, 8832, 8712, 8832, 8856,\n",
      "       8800, 8880, 8840, 8832, 8920, 8912, 8800, 8880, 8856, 8880, 8912,\n",
      "       8928, 8928, 8928], dtype=int16)\n",
      "Coordinates:\n",
      "    time         datetime64[ns] 2018-10-01T10:15:58\n",
      "    y            float64 5.308e+06\n",
      "  * x            (x) float64 7.612e+05 7.612e+05 ... 7.624e+05 7.624e+05\n",
      "    spatial_ref  int32 25832\n",
      "Attributes:\n",
      "    units:         reflectance\n",
      "    nodata:        0\n",
      "    crs:           EPSG:25832\n",
      "    grid_mapping:  spatial_ref\n"
     ]
    }
   ],
   "source": [
    "print(ds.blue[0][0])"
   ]
  },
  {
   "cell_type": "markdown",
   "metadata": {},
   "source": [
    "* **To select the upper-left corner pixel**\n",
    "<br>\n",
    "<img src=https://live.staticflickr.com/65535/51116131235_b0cca9589f_o.png, width=\"350\">"
   ]
  },
  {
   "cell_type": "code",
   "execution_count": 10,
   "metadata": {},
   "outputs": [
    {
     "name": "stdout",
     "output_type": "stream",
     "text": [
      "<xarray.DataArray 'blue' ()>\n",
      "array(8744, dtype=int16)\n",
      "Coordinates:\n",
      "    time         datetime64[ns] 2018-10-01T10:15:58\n",
      "    y            float64 5.308e+06\n",
      "    x            float64 7.612e+05\n",
      "    spatial_ref  int32 25832\n",
      "Attributes:\n",
      "    units:         reflectance\n",
      "    nodata:        0\n",
      "    crs:           EPSG:25832\n",
      "    grid_mapping:  spatial_ref\n"
     ]
    }
   ],
   "source": [
    "print(ds.blue[0][0][0])"
   ]
  },
  {
   "cell_type": "markdown",
   "metadata": {},
   "source": [
    "### **subset dataset with `isel` vs. `sel`**\n",
    "* Use `isel` when subsetting with **index**\n",
    "* Use `sel` when subsetting with **labels**"
   ]
  },
  {
   "cell_type": "markdown",
   "metadata": {},
   "source": [
    "* **To select data of all spectral bands at the first time stamp**\n",
    "<br>\n",
    "<img src=https://live.staticflickr.com/65535/51114879732_7d62db54f4_o.png, width=\"750\">"
   ]
  },
  {
   "cell_type": "code",
   "execution_count": 11,
   "metadata": {},
   "outputs": [
    {
     "name": "stdout",
     "output_type": "stream",
     "text": [
      "<xarray.Dataset>\n",
      "Dimensions:      (time: 1, x: 124, y: 84)\n",
      "Coordinates:\n",
      "  * time         (time) datetime64[ns] 2018-10-01T10:15:58\n",
      "  * y            (y) float64 5.308e+06 5.308e+06 ... 5.307e+06 5.307e+06\n",
      "  * x            (x) float64 7.612e+05 7.612e+05 ... 7.624e+05 7.624e+05\n",
      "    spatial_ref  int32 25832\n",
      "Data variables:\n",
      "    blue         (time, y, x) int16 8744 8704 8608 8600 ... 9808 9672 9696 9672\n",
      "    green        (time, y, x) int16 8632 8624 8560 8504 ... 9680 9656 9616 9528\n",
      "    red          (time, y, x) int16 8608 8608 8544 8544 ... 9632 9560 9528 9480\n",
      "Attributes:\n",
      "    crs:           EPSG:25832\n",
      "    grid_mapping:  spatial_ref\n"
     ]
    }
   ],
   "source": [
    "print(ds.isel(time=[0]))"
   ]
  },
  {
   "cell_type": "markdown",
   "metadata": {},
   "source": [
    "* **To select data of all spectral bands of year 2019** \n",
    "<br>\n",
    "<img src=https://live.staticflickr.com/65535/51116281070_75f1b46a9c_o.png, width=\"750\">"
   ]
  },
  {
   "cell_type": "code",
   "execution_count": 12,
   "metadata": {},
   "outputs": [
    {
     "name": "stdout",
     "output_type": "stream",
     "text": [
      "<xarray.Dataset>\n",
      "Dimensions:      (time: 90, x: 124, y: 84)\n",
      "Coordinates:\n",
      "  * time         (time) datetime64[ns] 2019-01-01T10:07:21 ... 2019-03-30T10:...\n",
      "  * y            (y) float64 5.308e+06 5.308e+06 ... 5.307e+06 5.307e+06\n",
      "  * x            (x) float64 7.612e+05 7.612e+05 ... 7.624e+05 7.624e+05\n",
      "    spatial_ref  int32 25832\n",
      "Data variables:\n",
      "    blue         (time, y, x) int16 0 0 0 0 0 0 0 ... 518 515 519 525 499 473\n",
      "    green        (time, y, x) int16 0 0 0 0 0 0 0 ... 756 752 736 760 738 726\n",
      "    red          (time, y, x) int16 0 0 0 0 0 0 0 ... 428 433 450 469 448 433\n",
      "Attributes:\n",
      "    crs:           EPSG:25832\n",
      "    grid_mapping:  spatial_ref\n"
     ]
    }
   ],
   "source": [
    "print(ds.sel(time='2019'))"
   ]
  },
  {
   "cell_type": "markdown",
   "metadata": {},
   "source": [
    "***Tip: More about indexing and sebsetting Dataset or DataArray is presented in the [Notebook_05](https://github.com/eo2cube/eo2cube_notebooks/blob/main/get_started/intro_to_eo2cube/05_xarrayII.ipynb).***"
   ]
  },
  {
   "cell_type": "markdown",
   "metadata": {},
   "source": [
    "## **Reshape Dataset**\n",
    "\n",
    "* **Convert the Dataset (subset to 2019) to a *4-dimension* DataArray**"
   ]
  },
  {
   "cell_type": "code",
   "execution_count": 15,
   "metadata": {},
   "outputs": [
    {
     "name": "stdout",
     "output_type": "stream",
     "text": [
      "<xarray.DataArray (band: 3, time: 90, y: 84, x: 124)>\n",
      "array([[[[   0,    0,    0, ...,    0,    0,    0],\n",
      "         [   0,    0,    0, ...,    0,    0,    0],\n",
      "         [   0,    0,    0, ...,    0,    0,    0],\n",
      "         ...,\n",
      "         [   0,    0,    0, ...,    0,    0,    0],\n",
      "         [   0,    0,    0, ...,    0,    0,    0],\n",
      "         [   0,    0,    0, ...,    0,    0,    0]],\n",
      "\n",
      "        [[   0,    0,    0, ...,    0,    0,    0],\n",
      "         [   0,    0,    0, ...,    0,    0,    0],\n",
      "         [   0,    0,    0, ...,    0,    0,    0],\n",
      "         ...,\n",
      "         [   0,    0,    0, ...,    0,    0,    0],\n",
      "         [   0,    0,    0, ...,    0,    0,    0],\n",
      "         [   0,    0,    0, ...,    0,    0,    0]],\n",
      "\n",
      "        [[   0,    0,    0, ...,    0,    0,    0],\n",
      "         [   0,    0,    0, ...,    0,    0,    0],\n",
      "         [   0,    0,    0, ...,    0,    0,    0],\n",
      "         ...,\n",
      "...\n",
      "         ...,\n",
      "         [   0,    0,    0, ...,    0,    0,    0],\n",
      "         [   0,    0,    0, ...,    0,    0,    0],\n",
      "         [   0,    0,    0, ...,    0,    0,    0]],\n",
      "\n",
      "        [[ 239,  237,  236, ...,  350,  351,  351],\n",
      "         [ 241,  231,  242, ...,  358,  358,  334],\n",
      "         [ 243,  254,  233, ...,  358,  339,  340],\n",
      "         ...,\n",
      "         [ 905, 1050,  833, ...,  408,  392,  385],\n",
      "         [ 775,  893,  795, ...,  449,  430,  417],\n",
      "         [ 771,  765,  752, ...,  482,  476,  447]],\n",
      "\n",
      "        [[ 226,  233,  227, ...,  342,  343,  345],\n",
      "         [ 226,  218,  232, ...,  353,  349,  332],\n",
      "         [ 242,  241,  227, ...,  353,  336,  333],\n",
      "         ...,\n",
      "         [ 857,  991,  828, ...,  390,  393,  371],\n",
      "         [ 761,  824,  761, ...,  423,  411,  397],\n",
      "         [ 752,  736,  767, ...,  469,  448,  433]]]], dtype=int16)\n",
      "Coordinates:\n",
      "  * time         (time) datetime64[ns] 2019-01-01T10:07:21 ... 2019-03-30T10:...\n",
      "  * y            (y) float64 5.308e+06 5.308e+06 ... 5.307e+06 5.307e+06\n",
      "  * x            (x) float64 7.612e+05 7.612e+05 ... 7.624e+05 7.624e+05\n",
      "    spatial_ref  int32 25832\n",
      "  * band         (band) <U5 'blue' 'green' 'red'\n",
      "Attributes:\n",
      "    crs:           EPSG:25832\n",
      "    grid_mapping:  spatial_ref\n"
     ]
    }
   ],
   "source": [
    "ds19 = ds.sel(time='2019').to_array().rename({\"variable\":\"band\"})\n",
    "print(ds19)"
   ]
  },
  {
   "cell_type": "markdown",
   "metadata": {},
   "source": [
    "* **Convert the *4-dimension* DataArray back to a Dataset by setting the \"time\" as DataVariable (reshaped)**\n",
    "\n",
    "![ds_reshaped](https://live.staticflickr.com/65535/51151694092_ca550152d6_o.png)"
   ]
  },
  {
   "cell_type": "code",
   "execution_count": 16,
   "metadata": {},
   "outputs": [
    {
     "name": "stdout",
     "output_type": "stream",
     "text": [
      "<xarray.Dataset>\n",
      "Dimensions:              (band: 3, x: 124, y: 84)\n",
      "Coordinates:\n",
      "  * y                    (y) float64 5.308e+06 5.308e+06 ... 5.307e+06 5.307e+06\n",
      "  * x                    (x) float64 7.612e+05 7.612e+05 ... 7.624e+05 7.624e+05\n",
      "    spatial_ref          int32 25832\n",
      "  * band                 (band) <U5 'blue' 'green' 'red'\n",
      "Data variables:\n",
      "    2019-01-01 10:07:21  (band, y, x) int16 0 0 0 0 0 0 0 0 ... 0 0 0 0 0 0 0 0\n",
      "    2019-01-02 10:27:14  (band, y, x) int16 0 0 0 0 0 0 0 0 ... 0 0 0 0 0 0 0 0\n",
      "    2019-01-02 10:27:20  (band, y, x) int16 0 0 0 0 0 0 0 0 ... 0 0 0 0 0 0 0 0\n",
      "    2019-01-04 10:17:19  (band, y, x) int16 10360 10272 10264 ... 9744 9784 9784\n",
      "    2019-01-04 10:17:21  (band, y, x) int16 10800 10760 10720 ... 9968 9984 9944\n",
      "    2019-01-06 10:07:25  (band, y, x) int16 0 0 0 0 0 0 0 0 ... 0 0 0 0 0 0 0 0\n",
      "    2019-01-07 10:27:12  (band, y, x) int16 0 0 0 0 0 0 0 0 ... 0 0 0 0 0 0 0 0\n",
      "    2019-01-07 10:27:18  (band, y, x) int16 0 0 0 0 0 0 0 0 ... 0 0 0 0 0 0 0 0\n",
      "    2019-01-09 10:17:23  (band, y, x) int16 8376 8400 8360 ... 8704 8688 8664\n",
      "    2019-01-09 10:17:25  (band, y, x) int16 9120 9080 9120 ... 9064 9032 8984\n",
      "    2019-01-11 10:07:22  (band, y, x) int16 0 0 0 0 0 0 0 0 ... 0 0 0 0 0 0 0 0\n",
      "    2019-01-12 10:27:16  (band, y, x) int16 0 0 0 0 0 0 0 0 ... 0 0 0 0 0 0 0 0\n",
      "    2019-01-12 10:27:22  (band, y, x) int16 0 0 0 0 0 0 0 0 ... 0 0 0 0 0 0 0 0\n",
      "    2019-01-14 10:17:20  (band, y, x) int16 7840 7884 7840 ... 8188 8084 8096\n",
      "    2019-01-14 10:17:22  (band, y, x) int16 7616 7656 7656 ... 8056 7984 8008\n",
      "    2019-01-16 10:07:26  (band, y, x) int16 0 0 0 0 0 0 0 0 ... 0 0 0 0 0 0 0 0\n",
      "    2019-01-17 10:27:13  (band, y, x) int16 0 0 0 0 0 0 0 0 ... 0 0 0 0 0 0 0 0\n",
      "    2019-01-17 10:27:19  (band, y, x) int16 0 0 0 0 0 0 0 0 ... 0 0 0 0 0 0 0 0\n",
      "    2019-01-19 10:17:24  (band, y, x) int16 2218 2261 2254 ... 2004 2003 1998\n",
      "    2019-01-19 10:17:26  (band, y, x) int16 2194 2256 2250 ... 2010 2002 2024\n",
      "    2019-01-21 10:07:23  (band, y, x) int16 0 0 0 0 0 0 0 0 ... 0 0 0 0 0 0 0 0\n",
      "    2019-01-22 10:27:17  (band, y, x) int16 0 0 0 0 0 0 0 0 ... 0 0 0 0 0 0 0 0\n",
      "    2019-01-22 10:27:23  (band, y, x) int16 0 0 0 0 0 0 0 0 ... 0 0 0 0 0 0 0 0\n",
      "    2019-01-24 10:17:21  (band, y, x) int16 7220 7192 7204 ... 6172 6244 6312\n",
      "    2019-01-24 10:17:23  (band, y, x) int16 8664 8728 8720 ... 6900 7016 7072\n",
      "    2019-01-26 10:07:27  (band, y, x) int16 0 0 0 0 0 0 0 0 ... 0 0 0 0 0 0 0 0\n",
      "    2019-01-27 10:27:13  (band, y, x) int16 0 0 0 0 0 0 0 0 ... 0 0 0 0 0 0 0 0\n",
      "    2019-01-27 10:27:20  (band, y, x) int16 0 0 0 0 0 0 0 0 ... 0 0 0 0 0 0 0 0\n",
      "    2019-01-29 10:17:24  (band, y, x) int16 39 49 80 82 ... 1330 1292 1356 1416\n",
      "    2019-01-29 10:17:27  (band, y, x) int16 137 148 167 153 ... 1324 1446 1446\n",
      "    2019-01-31 10:07:24  (band, y, x) int16 0 0 0 0 0 0 0 0 ... 0 0 0 0 0 0 0 0\n",
      "    2019-02-01 10:27:17  (band, y, x) int16 0 0 0 0 0 0 0 0 ... 0 0 0 0 0 0 0 0\n",
      "    2019-02-01 10:27:23  (band, y, x) int16 0 0 0 0 0 0 0 0 ... 0 0 0 0 0 0 0 0\n",
      "    2019-02-03 10:17:21  (band, y, x) int16 10080 10184 10184 ... 10248 10216\n",
      "    2019-02-03 10:17:23  (band, y, x) int16 9704 9816 9856 ... 10080 10040 10040\n",
      "    2019-02-05 10:07:27  (band, y, x) int16 0 0 0 0 0 0 0 0 ... 0 0 0 0 0 0 0 0\n",
      "    2019-02-06 10:27:14  (band, y, x) int16 0 0 0 0 0 0 0 0 ... 0 0 0 0 0 0 0 0\n",
      "    2019-02-06 10:27:20  (band, y, x) int16 0 0 0 0 0 0 0 0 ... 0 0 0 0 0 0 0 0\n",
      "    2019-02-08 10:17:24  (band, y, x) int16 239 231 232 240 ... 496 479 465 461\n",
      "    2019-02-08 10:17:27  (band, y, x) int16 237 225 224 235 ... 453 460 454 460\n",
      "    2019-02-10 10:07:23  (band, y, x) int16 0 0 0 0 0 0 0 0 ... 0 0 0 0 0 0 0 0\n",
      "    2019-02-11 10:27:17  (band, y, x) int16 0 0 0 0 0 0 0 0 ... 0 0 0 0 0 0 0 0\n",
      "    2019-02-11 10:27:23  (band, y, x) int16 0 0 0 0 0 0 0 0 ... 0 0 0 0 0 0 0 0\n",
      "    2019-02-13 10:17:21  (band, y, x) int16 212 197 218 228 ... 532 522 535 530\n",
      "    2019-02-13 10:17:23  (band, y, x) int16 227 224 243 242 ... 548 542 560 537\n",
      "    2019-02-15 10:07:27  (band, y, x) int16 0 0 0 0 0 0 0 0 ... 0 0 0 0 0 0 0 0\n",
      "    2019-02-16 10:27:13  (band, y, x) int16 0 0 0 0 0 0 0 0 ... 0 0 0 0 0 0 0 0\n",
      "    2019-02-16 10:27:19  (band, y, x) int16 0 0 0 0 0 0 0 0 ... 0 0 0 0 0 0 0 0\n",
      "    2019-02-18 10:17:24  (band, y, x) int16 169 168 167 174 ... 463 467 472 466\n",
      "    2019-02-18 10:17:26  (band, y, x) int16 161 160 158 169 ... 453 461 469 453\n",
      "    2019-02-20 10:07:23  (band, y, x) int16 0 0 0 0 0 0 0 0 ... 0 0 0 0 0 0 0 0\n",
      "    2019-02-21 10:27:16  (band, y, x) int16 0 0 0 0 0 0 0 0 ... 0 0 0 0 0 0 0 0\n",
      "    2019-02-21 10:27:22  (band, y, x) int16 0 0 0 0 0 0 0 0 ... 0 0 0 0 0 0 0 0\n",
      "    2019-02-23 10:17:20  (band, y, x) int16 440 388 406 418 ... 557 542 545 532\n",
      "    2019-02-23 10:17:22  (band, y, x) int16 424 401 426 414 ... 553 543 544 532\n",
      "    2019-02-25 10:07:26  (band, y, x) int16 0 0 0 0 0 0 0 0 ... 0 0 0 0 0 0 0 0\n",
      "    2019-02-26 10:27:12  (band, y, x) int16 0 0 0 0 0 0 0 0 ... 0 0 0 0 0 0 0 0\n",
      "    2019-02-26 10:27:18  (band, y, x) int16 0 0 0 0 0 0 0 0 ... 0 0 0 0 0 0 0 0\n",
      "    2019-02-28 10:17:23  (band, y, x) int16 233 216 217 217 ... 546 511 499 480\n",
      "    2019-02-28 10:17:25  (band, y, x) int16 228 210 210 210 ... 508 492 480 463\n",
      "    2019-03-02 10:07:22  (band, y, x) int16 0 0 0 0 0 0 0 0 ... 0 0 0 0 0 0 0 0\n",
      "    2019-03-03 10:27:15  (band, y, x) int16 0 0 0 0 0 0 0 0 ... 0 0 0 0 0 0 0 0\n",
      "    2019-03-03 10:27:21  (band, y, x) int16 0 0 0 0 0 0 0 0 ... 0 0 0 0 0 0 0 0\n",
      "    2019-03-05 10:17:19  (band, y, x) int16 5576 4952 4628 ... 7972 8016 8040\n",
      "    2019-03-05 10:17:21  (band, y, x) int16 5524 5024 4544 ... 8036 8052 8084\n",
      "    2019-03-07 10:07:24  (band, y, x) int16 0 0 0 0 0 0 0 0 ... 0 0 0 0 0 0 0 0\n",
      "    2019-03-08 10:27:11  (band, y, x) int16 0 0 0 0 0 0 0 0 ... 0 0 0 0 0 0 0 0\n",
      "    2019-03-08 10:27:17  (band, y, x) int16 0 0 0 0 0 0 0 0 ... 0 0 0 0 0 0 0 0\n",
      "    2019-03-10 10:17:21  (band, y, x) int16 8328 8296 8280 ... 8376 8328 8328\n",
      "    2019-03-10 10:17:24  (band, y, x) int16 8304 8304 8304 ... 8368 8328 8312\n",
      "    2019-03-12 10:07:22  (band, y, x) int16 0 0 0 0 0 0 0 0 ... 0 0 0 0 0 0 0 0\n",
      "    2019-03-13 10:27:14  (band, y, x) int16 0 0 0 0 0 0 0 0 ... 0 0 0 0 0 0 0 0\n",
      "    2019-03-13 10:27:20  (band, y, x) int16 0 0 0 0 0 0 0 0 ... 0 0 0 0 0 0 0 0\n",
      "    2019-03-15 10:17:21  (band, y, x) int16 9736 9784 9784 ... 9664 9616 9664\n",
      "    2019-03-15 10:17:23  (band, y, x) int16 8992 9032 9064 ... 9208 9168 9208\n",
      "    2019-03-17 10:07:28  (band, y, x) int16 0 0 0 0 0 0 0 0 ... 0 0 0 0 0 0 0 0\n",
      "    2019-03-18 10:27:14  (band, y, x) int16 0 0 0 0 0 0 0 0 ... 0 0 0 0 0 0 0 0\n",
      "    2019-03-18 10:27:20  (band, y, x) int16 0 0 0 0 0 0 0 0 ... 0 0 0 0 0 0 0 0\n",
      "    2019-03-20 10:17:23  (band, y, x) int16 468 483 460 484 ... 6068 5804 5820\n",
      "    2019-03-20 10:17:26  (band, y, x) int16 448 447 445 458 ... 6056 5868 5908\n",
      "    2019-03-22 10:07:25  (band, y, x) int16 0 0 0 0 0 0 0 0 ... 0 0 0 0 0 0 0 0\n",
      "    2019-03-23 10:27:17  (band, y, x) int16 0 0 0 0 0 0 0 0 ... 0 0 0 0 0 0 0 0\n",
      "    2019-03-23 10:27:23  (band, y, x) int16 0 0 0 0 0 0 0 0 ... 0 0 0 0 0 0 0 0\n",
      "    2019-03-25 10:17:23  (band, y, x) int16 12392 12312 12200 ... 12480 12312\n",
      "    2019-03-25 10:17:25  (band, y, x) int16 13712 13640 13456 ... 13128 13056\n",
      "    2019-03-27 10:07:28  (band, y, x) int16 0 0 0 0 0 0 0 0 ... 0 0 0 0 0 0 0 0\n",
      "    2019-03-28 10:27:16  (band, y, x) int16 0 0 0 0 0 0 0 0 ... 0 0 0 0 0 0 0 0\n",
      "    2019-03-28 10:27:22  (band, y, x) int16 0 0 0 0 0 0 0 0 ... 0 0 0 0 0 0 0 0\n",
      "    2019-03-30 10:17:26  (band, y, x) int16 430 433 429 442 ... 455 482 476 447\n",
      "    2019-03-30 10:17:28  (band, y, x) int16 422 412 408 436 ... 450 469 448 433\n",
      "Attributes:\n",
      "    crs:           EPSG:25832\n",
      "    grid_mapping:  spatial_ref\n"
     ]
    }
   ],
   "source": [
    "ds_reshp = ds19.to_dataset(dim=\"time\")\n",
    "print(ds_reshp)"
   ]
  },
  {
   "cell_type": "markdown",
   "metadata": {},
   "source": [
    "## Recommended next steps\n",
    "\n",
    "If you now understand the **data structure** of `xarray.dataset` and **basic indexing** methods illustrated in this notebook, you are ready to move on to the next notebook where you will learn more about **advanced indexing** and calculating some **basic statistical parameters** of the n-dimensional arrays!:D\n",
    "\n",
    "In case you are gaining interest in exploring the world of **xarrays**, you may lay yourself into the [Xarray user guide](http://xarray.pydata.org/en/stable/index.html)."
   ]
  },
  {
   "cell_type": "markdown",
   "metadata": {},
   "source": [
    "To continue working through the notebooks in this beginner's guide, the following notebooks are designed to be worked through in the following order:\n",
    "\n",
    "1. [Jupyter Notebooks](01_jupyter_introduction.ipynb)\n",
    "2. [eo2cube](02_eo2cube_introduction.ipynb)\n",
    "3. [Loading Data](03_data_lookup_and_loading.ipynb)\n",
    "4. **Xarray I: Data Structure (this notebook)**\n",
    "5. [Xarray II: Index and Statistics](05_xarrayII.ipynb)\n",
    "6. [Plotting data](06_plotting_basics.ipynb)\n",
    "7. [Spatial analysis](07_basic_analysis.ipynb)\n",
    "8. [Parallel processing with Dask](08_parallel_processing_with_dask.ipynb)\n",
    "\n",
    "The additional notebooks are designed for users to build up both basic and advanced skills which are not covered by the beginner's guide. Self-motivated users can go through them according to their own needs. They act as complements for the guide:\n",
    "<br>\n",
    "\n",
    "1. [Python's file management tools](I_file_management.ipynb)\n",
    "2. [Image Processing basics using NumPy and Matplotlib](II_numpy_image_processing.ipynb)\n",
    "3. [Vector Processing](III_basic_vector_processing.ipynb)\n",
    "4. [Advanced Plotting](IV_advanced_plotting.ipynb)\n",
    "\n",
    "Once you have worked through the beginner's guide, you can join advanced users by exploring:\n",
    "\n",
    "* The \"DEA datasets\" directory in the repository, where you can explore DEA products in depth.\n",
    "* The \"Frequently used code\" directory, which contains a recipe book of common techniques and methods for analysing DEA data.\n",
    "* The \"Real-world examples\" directory, which provides more complex workflows and analysis case studies."
   ]
  },
  {
   "cell_type": "markdown",
   "metadata": {},
   "source": [
    "***\n",
    "## Additional information\n",
    "\n",
    "This notebook is for the usage of Jupyter Notebook of the [Department of Remote Sensing](http://remote-sensing.org/), [University of Wuerzburg](https://www.uni-wuerzburg.de/startseite/).\n",
    "\n",
    "**License:** The code in this notebook is licensed under the [Apache License, Version 2.0](https://www.apache.org/licenses/LICENSE-2.0). \n",
    "\n",
    "\n",
    "**Contact:** If you would like to report an issue with this notebook, you can file one on [Github](https://github.com).\n",
    "\n",
    "**Last modified:** April 2021"
   ]
  }
 ],
 "metadata": {
  "kernelspec": {
   "display_name": "Python 3",
   "language": "python",
   "name": "python3"
  },
  "language_info": {
   "codemirror_mode": {
    "name": "ipython",
    "version": 3
   },
   "file_extension": ".py",
   "mimetype": "text/x-python",
   "name": "python",
   "nbconvert_exporter": "python",
   "pygments_lexer": "ipython3",
   "version": "3.9.1"
  }
 },
 "nbformat": 4,
 "nbformat_minor": 4
}
