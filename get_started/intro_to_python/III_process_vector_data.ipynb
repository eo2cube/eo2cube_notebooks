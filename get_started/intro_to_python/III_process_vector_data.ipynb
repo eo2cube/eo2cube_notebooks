{
 "cells": [
  {
   "cell_type": "markdown",
   "metadata": {},
   "source": [
    "<img align=\"right\" src=\"../../additional_data/banner_siegel.png\" style=\"width:1100px;\">"
   ]
  },
  {
   "cell_type": "markdown",
   "metadata": {},
   "source": [
    "#  Process Spatial Vector Data in Python : Pandas and Geopandas\n",
    "\n",
    "* [**Sign up to the JupyterHub**](https://www.phenocube.org/) to run this notebook interactively from your browser\n",
    "* **Compatibility:** Notebook currently compatible with the Open Data Cube environments of the University of Wuerzburg\n",
    "* **Prerequisites**: we assume that readers have a basic understanding of spatial vector data"
   ]
  },
  {
   "cell_type": "markdown",
   "metadata": {},
   "source": [
    "## Background\n",
    "\n",
    "The two basic data types we encounter when processing remote sensing data are **spatial raster data** and **spatial vector data**. In addition to the previous tutorials we presented concerning datacube and raster data processing, in this notebook however, we would like to introduce spatial vector data processing in Python to our readers.\n",
    "\n",
    "Assuming that our readers already have an understanding of spatial vector data, we won't start with illustrating terms and concepts, but focus on presenting how to process it using Python.\n",
    "\n",
    "Let's start!:)"
   ]
  },
  {
   "cell_type": "markdown",
   "metadata": {},
   "source": [
    "## Description\n",
    "\n",
    "This notebook contains the following sections:\n",
    "\n",
    "* **Overview of Data Structure** \n",
    "<br>\n",
    "\n",
    "* **Manipulating GeoDataFrames**\n",
    "<br>\n",
    "\n",
    "* **Basic Processing on Spatial Vector Data**\n",
    "    * Reproject Spatial Vector Data\n",
    "    * Calculate perimeters and areas of polygons\n",
    "    * Add the calculated parameters to GeoDataFrame\n",
    "\n",
    "<br>\n",
    "\n",
    "* how to read spatial vector data into Python?\n",
    "* how to reproject spatial vector data?\n",
    "* how to calculate perimeters and areas of geometries?\n",
    "* how to modify attribute table?"
   ]
  },
  {
   "cell_type": "markdown",
   "metadata": {},
   "source": [
    "## Overview of Data Structure\n",
    "\n",
    "**`pandas`** is the standard package in Python to work on a ***DataFrame***. Each column of the DataFrame is a ***pandas series***, which is substantially a one-dimensional array.\n",
    "\n",
    "**`geopandas`** is the package we are introducing for processing spatial vector data. It reads any spatial vector data as a ***GeoDataFrame*** that is just like a standard pandas DataFrame, but with an additional column called *`['geometry']`*.\n",
    "\n",
    "The column *`['geometry']`* is, instead of a pandas series, a ***Geoseries***, which is substantially also a one-dimensional array. Each entry in this series is a set of coordinates depicting the shape(s) of one or multiple geometric objects.\n",
    "\n",
    "There are three basic classes of geometric objects:\n",
    "* Point / Multipoints\n",
    "* Line / Multilines\n",
    "* Polygon / Multipolygons\n",
    "\n",
    "In summary, the structure of a `GeoDataFrame` generally looks like as follows:\n",
    "\n",
    "***\n",
    "* Column_A *(`pandas series`)*\n",
    "* Column_B *(`pandas series`)*\n",
    "* ...\n",
    "* Column \"geometry\" *(`geoseries`)*\n",
    "    * (e.g.) Multipolygon_1 *(`shapely.geometry`)*\n",
    "        * polygon_1a\n",
    "        * polygon_1b\n",
    "    * (e.g.) Multipolygon_2 *(`shapely.geometry`)*\n",
    "        * polygon_2a\n",
    "        * polygon_2b\n",
    "***\n",
    "\n",
    "* *Note: **`shapely`** is the package that `geopandas` relys on to handle geometric objects, so the data types are displayed as `shapely.geometry.polygon/multipolygon/etc.`.*\n",
    "* *Note: all entries in a GeoSeries need not be of the same geometric type, although certain export operations will fail if this is not the case.*"
   ]
  },
  {
   "cell_type": "markdown",
   "metadata": {},
   "source": [
    "## Manipulating GeoDataFrames\n",
    "<br>\n",
    "\n",
    "### Read Spatial Vector Data\n",
    "\n",
    "To read local spatial vector data into Python, you just need to define the path to your data and use function **`geopandas.read_file()`**.\n",
    "\n",
    "**`geopandas`** supports various formats of geospatial vector data including ArcGIS Shapefile(`.shp`), Geopackage(`.gpkg`), Geojson(`.geojson`) etc.\n",
    "The sample data used in this notebook is a `.gpkg` file of some river basins in South Africa. You may download this data [here]() or you may also use you own vector data.\n",
    "\n",
    "* *In case you have confusions concerning file path, you may refer to one of our previous [tutorials](https://github.com/eo2cube/eo2cube_notebooks/blob/main/get_started/intro_to_python/01_manage_files_directories_and_paths.ipynb).*\n",
    "<br>\n",
    "* *There are also methods of reading vector data through URLs; if you are interested in this, you may refer to [here](https://www.earthdatascience.org/courses/use-data-open-source-python/intro-to-apis/spatial-data-using-apis/) and [here](https://gis.stackexchange.com/questions/225586/reading-raw-data-into-geopandas).*"
   ]
  },
  {
   "cell_type": "code",
   "execution_count": 2,
   "metadata": {},
   "outputs": [],
   "source": [
    "# Packages we need\n",
    "import os\n",
    "import geopandas as gpd\n",
    "from shapely.geometry import Polygon, Point, MultiPolygon"
   ]
  },
  {
   "cell_type": "code",
   "execution_count": 5,
   "metadata": {
    "scrolled": true
   },
   "outputs": [
    {
     "data": {
      "text/plain": [
       "geopandas.geodataframe.GeoDataFrame"
      ]
     },
     "execution_count": 5,
     "metadata": {},
     "output_type": "execute_result"
    }
   ],
   "source": [
    "my_path = \"C:/EAGLE/internship_job/Hiwi/DataCube/eo2cube_notebooks/get_started/intro_to_python/sample_data/basin_saf.gpkg\"\n",
    "basin = gpd.read_file(my_path)\n",
    "type(basin)"
   ]
  },
  {
   "cell_type": "code",
   "execution_count": 4,
   "metadata": {},
   "outputs": [
    {
     "data": {
      "text/plain": [
       "<AxesSubplot:>"
      ]
     },
     "execution_count": 4,
     "metadata": {},
     "output_type": "execute_result"
    },
    {
     "data": {
      "image/png": "[encoded data removed]",
      "text/plain": [
       "<Figure size 432x288 with 1 Axes>"
      ]
     },
     "metadata": {
      "needs_background": "light"
     },
     "output_type": "display_data"
    }
   ],
   "source": [
    "basin.plot()"
   ]
  },
  {
   "cell_type": "markdown",
   "metadata": {},
   "source": [
    "### Check out Attributes of GeoDataFrame\n",
    "\n",
    "* ***The first / last 5 records*** --- ***`<gdf>.head()` & `<gdf>.tail()`***"
   ]
  },
  {
   "cell_type": "code",
   "execution_count": 6,
   "metadata": {},
   "outputs": [
    {
     "data": {
      "text/html": [
       "<div>\n",
       "<style scoped>\n",
       "    .dataframe tbody tr th:only-of-type {\n",
       "        vertical-align: middle;\n",
       "    }\n",
       "\n",
       "    .dataframe tbody tr th {\n",
       "        vertical-align: top;\n",
       "    }\n",
       "\n",
       "    .dataframe thead th {\n",
       "        text-align: right;\n",
       "    }\n",
       "</style>\n",
       "<table border=\"1\" class=\"dataframe\">\n",
       "  <thead>\n",
       "    <tr style=\"text-align: right;\">\n",
       "      <th></th>\n",
       "      <th>HYBAS_ID</th>\n",
       "      <th>NEXT_DOWN</th>\n",
       "      <th>NEXT_SINK</th>\n",
       "      <th>MAIN_BAS</th>\n",
       "      <th>DIST_SINK</th>\n",
       "      <th>DIST_MAIN</th>\n",
       "      <th>SUB_AREA</th>\n",
       "      <th>UP_AREA</th>\n",
       "      <th>PFAF_ID</th>\n",
       "      <th>ENDO</th>\n",
       "      <th>COAST</th>\n",
       "      <th>ORDER</th>\n",
       "      <th>SORT</th>\n",
       "      <th>geometry</th>\n",
       "    </tr>\n",
       "  </thead>\n",
       "  <tbody>\n",
       "    <tr>\n",
       "      <th>0</th>\n",
       "      <td>1080015240</td>\n",
       "      <td>0</td>\n",
       "      <td>1080015240</td>\n",
       "      <td>1080015240</td>\n",
       "      <td>0.0</td>\n",
       "      <td>0.0</td>\n",
       "      <td>638.2</td>\n",
       "      <td>638.2</td>\n",
       "      <td>12601077</td>\n",
       "      <td>0</td>\n",
       "      <td>1</td>\n",
       "      <td>0</td>\n",
       "      <td>6770</td>\n",
       "      <td>MULTIPOLYGON (((18.58611 -34.14167, 18.57999 -...</td>\n",
       "    </tr>\n",
       "    <tr>\n",
       "      <th>1</th>\n",
       "      <td>1080015260</td>\n",
       "      <td>0</td>\n",
       "      <td>1080015260</td>\n",
       "      <td>1080015260</td>\n",
       "      <td>0.0</td>\n",
       "      <td>0.0</td>\n",
       "      <td>259.3</td>\n",
       "      <td>259.5</td>\n",
       "      <td>12601078</td>\n",
       "      <td>0</td>\n",
       "      <td>0</td>\n",
       "      <td>1</td>\n",
       "      <td>6771</td>\n",
       "      <td>MULTIPOLYGON (((18.47500 -33.91667, 18.47500 -...</td>\n",
       "    </tr>\n",
       "    <tr>\n",
       "      <th>2</th>\n",
       "      <td>1080015270</td>\n",
       "      <td>0</td>\n",
       "      <td>1080015270</td>\n",
       "      <td>1080015270</td>\n",
       "      <td>0.0</td>\n",
       "      <td>0.0</td>\n",
       "      <td>23.6</td>\n",
       "      <td>23.7</td>\n",
       "      <td>12601079</td>\n",
       "      <td>0</td>\n",
       "      <td>1</td>\n",
       "      <td>0</td>\n",
       "      <td>6772</td>\n",
       "      <td>MULTIPOLYGON (((18.50000 -33.91250, 18.49779 -...</td>\n",
       "    </tr>\n",
       "    <tr>\n",
       "      <th>3</th>\n",
       "      <td>1080015280</td>\n",
       "      <td>0</td>\n",
       "      <td>1080015280</td>\n",
       "      <td>1080015280</td>\n",
       "      <td>0.0</td>\n",
       "      <td>0.0</td>\n",
       "      <td>1488.2</td>\n",
       "      <td>1488.3</td>\n",
       "      <td>12601080</td>\n",
       "      <td>0</td>\n",
       "      <td>0</td>\n",
       "      <td>1</td>\n",
       "      <td>6773</td>\n",
       "      <td>MULTIPOLYGON (((18.89167 -33.85000, 18.87696 -...</td>\n",
       "    </tr>\n",
       "    <tr>\n",
       "      <th>4</th>\n",
       "      <td>1080015290</td>\n",
       "      <td>0</td>\n",
       "      <td>1080015290</td>\n",
       "      <td>1080015290</td>\n",
       "      <td>0.0</td>\n",
       "      <td>0.0</td>\n",
       "      <td>2120.1</td>\n",
       "      <td>2120.1</td>\n",
       "      <td>12601090</td>\n",
       "      <td>0</td>\n",
       "      <td>1</td>\n",
       "      <td>0</td>\n",
       "      <td>6774</td>\n",
       "      <td>MULTIPOLYGON (((18.37361 -33.82500, 18.36762 -...</td>\n",
       "    </tr>\n",
       "  </tbody>\n",
       "</table>\n",
       "</div>"
      ],
      "text/plain": [
       "     HYBAS_ID  NEXT_DOWN   NEXT_SINK    MAIN_BAS  DIST_SINK  DIST_MAIN  \\\n",
       "0  1080015240          0  1080015240  1080015240        0.0        0.0   \n",
       "1  1080015260          0  1080015260  1080015260        0.0        0.0   \n",
       "2  1080015270          0  1080015270  1080015270        0.0        0.0   \n",
       "3  1080015280          0  1080015280  1080015280        0.0        0.0   \n",
       "4  1080015290          0  1080015290  1080015290        0.0        0.0   \n",
       "\n",
       "   SUB_AREA  UP_AREA   PFAF_ID  ENDO  COAST  ORDER  SORT  \\\n",
       "0     638.2    638.2  12601077     0      1      0  6770   \n",
       "1     259.3    259.5  12601078     0      0      1  6771   \n",
       "2      23.6     23.7  12601079     0      1      0  6772   \n",
       "3    1488.2   1488.3  12601080     0      0      1  6773   \n",
       "4    2120.1   2120.1  12601090     0      1      0  6774   \n",
       "\n",
       "                                            geometry  \n",
       "0  MULTIPOLYGON (((18.58611 -34.14167, 18.57999 -...  \n",
       "1  MULTIPOLYGON (((18.47500 -33.91667, 18.47500 -...  \n",
       "2  MULTIPOLYGON (((18.50000 -33.91250, 18.49779 -...  \n",
       "3  MULTIPOLYGON (((18.89167 -33.85000, 18.87696 -...  \n",
       "4  MULTIPOLYGON (((18.37361 -33.82500, 18.36762 -...  "
      ]
     },
     "execution_count": 6,
     "metadata": {},
     "output_type": "execute_result"
    }
   ],
   "source": [
    "# Check the first 5 records\n",
    "basin.head()\n",
    "\n",
    "# Check the last 5 records\n",
    "#basin.tail()"
   ]
  },
  {
   "cell_type": "markdown",
   "metadata": {},
   "source": [
    "* ***Check Info*** --- ***`<gdf>.info()`***"
   ]
  },
  {
   "cell_type": "code",
   "execution_count": 7,
   "metadata": {
    "scrolled": true
   },
   "outputs": [
    {
     "name": "stdout",
     "output_type": "stream",
     "text": [
      "<class 'geopandas.geodataframe.GeoDataFrame'>\n",
      "RangeIndex: 8 entries, 0 to 7\n",
      "Data columns (total 14 columns):\n",
      " #   Column     Non-Null Count  Dtype   \n",
      "---  ------     --------------  -----   \n",
      " 0   HYBAS_ID   8 non-null      int64   \n",
      " 1   NEXT_DOWN  8 non-null      int64   \n",
      " 2   NEXT_SINK  8 non-null      int64   \n",
      " 3   MAIN_BAS   8 non-null      int64   \n",
      " 4   DIST_SINK  8 non-null      float64 \n",
      " 5   DIST_MAIN  8 non-null      float64 \n",
      " 6   SUB_AREA   8 non-null      float64 \n",
      " 7   UP_AREA    8 non-null      float64 \n",
      " 8   PFAF_ID    8 non-null      int64   \n",
      " 9   ENDO       8 non-null      int64   \n",
      " 10  COAST      8 non-null      int64   \n",
      " 11  ORDER      8 non-null      int64   \n",
      " 12  SORT       8 non-null      int64   \n",
      " 13  geometry   8 non-null      geometry\n",
      "dtypes: float64(4), geometry(1), int64(9)\n",
      "memory usage: 1.0 KB\n"
     ]
    }
   ],
   "source": [
    "basin.info()"
   ]
  },
  {
   "cell_type": "markdown",
   "metadata": {},
   "source": [
    "* ***Column Names*** --- ***`<gdf>.columns`***"
   ]
  },
  {
   "cell_type": "code",
   "execution_count": 9,
   "metadata": {},
   "outputs": [
    {
     "data": {
      "text/plain": [
       "Index(['HYBAS_ID', 'NEXT_DOWN', 'NEXT_SINK', 'MAIN_BAS', 'DIST_SINK',\n",
       "       'DIST_MAIN', 'SUB_AREA', 'UP_AREA', 'PFAF_ID', 'ENDO', 'COAST', 'ORDER',\n",
       "       'SORT', 'geometry'],\n",
       "      dtype='object')"
      ]
     },
     "execution_count": 9,
     "metadata": {},
     "output_type": "execute_result"
    }
   ],
   "source": [
    "basin.columns"
   ]
  },
  {
   "cell_type": "markdown",
   "metadata": {},
   "source": [
    "* ***Check Shape*** --- ***`<gdf>.shape`*** <br>\n",
    "The output is the (number of rows, number of columns) of the GeoDataFrame"
   ]
  },
  {
   "cell_type": "code",
   "execution_count": 10,
   "metadata": {
    "scrolled": true
   },
   "outputs": [
    {
     "data": {
      "text/plain": [
       "(8, 14)"
      ]
     },
     "execution_count": 10,
     "metadata": {},
     "output_type": "execute_result"
    }
   ],
   "source": [
    "basin.shape"
   ]
  },
  {
   "cell_type": "markdown",
   "metadata": {},
   "source": [
    "### Get Summary Statistics of GeoDataFrame\n",
    "\n",
    "* ***`<gdf>.describe()`***\n",
    "* ***`<gdf>.median()`***\n",
    "* ***`<gdf>.sum()`***\n",
    "* ..."
   ]
  },
  {
   "cell_type": "code",
   "execution_count": 21,
   "metadata": {},
   "outputs": [
    {
     "data": {
      "text/html": [
       "<div>\n",
       "<style scoped>\n",
       "    .dataframe tbody tr th:only-of-type {\n",
       "        vertical-align: middle;\n",
       "    }\n",
       "\n",
       "    .dataframe tbody tr th {\n",
       "        vertical-align: top;\n",
       "    }\n",
       "\n",
       "    .dataframe thead th {\n",
       "        text-align: right;\n",
       "    }\n",
       "</style>\n",
       "<table border=\"1\" class=\"dataframe\">\n",
       "  <thead>\n",
       "    <tr style=\"text-align: right;\">\n",
       "      <th></th>\n",
       "      <th>HYBAS_ID</th>\n",
       "      <th>NEXT_DOWN</th>\n",
       "      <th>NEXT_SINK</th>\n",
       "      <th>MAIN_BAS</th>\n",
       "      <th>DIST_SINK</th>\n",
       "      <th>DIST_MAIN</th>\n",
       "      <th>SUB_AREA</th>\n",
       "      <th>UP_AREA</th>\n",
       "      <th>PFAF_ID</th>\n",
       "      <th>ENDO</th>\n",
       "      <th>COAST</th>\n",
       "      <th>ORDER</th>\n",
       "      <th>SORT</th>\n",
       "    </tr>\n",
       "  </thead>\n",
       "  <tbody>\n",
       "    <tr>\n",
       "      <th>count</th>\n",
       "      <td>8.000000e+00</td>\n",
       "      <td>8.000000e+00</td>\n",
       "      <td>8.000000e+00</td>\n",
       "      <td>8.000000e+00</td>\n",
       "      <td>8.000000</td>\n",
       "      <td>8.000000</td>\n",
       "      <td>8.000000</td>\n",
       "      <td>8.000000</td>\n",
       "      <td>8.000000e+00</td>\n",
       "      <td>8.0</td>\n",
       "      <td>8.000000</td>\n",
       "      <td>8.000000</td>\n",
       "      <td>8.000000</td>\n",
       "    </tr>\n",
       "    <tr>\n",
       "      <th>mean</th>\n",
       "      <td>1.080220e+09</td>\n",
       "      <td>1.350019e+08</td>\n",
       "      <td>1.080015e+09</td>\n",
       "      <td>1.080015e+09</td>\n",
       "      <td>4.637500</td>\n",
       "      <td>4.637500</td>\n",
       "      <td>986.087500</td>\n",
       "      <td>1851.312500</td>\n",
       "      <td>1.260155e+07</td>\n",
       "      <td>0.0</td>\n",
       "      <td>0.500000</td>\n",
       "      <td>0.625000</td>\n",
       "      <td>6774.500000</td>\n",
       "    </tr>\n",
       "    <tr>\n",
       "      <th>std</th>\n",
       "      <td>5.798437e+05</td>\n",
       "      <td>3.818431e+08</td>\n",
       "      <td>6.654751e+01</td>\n",
       "      <td>6.654751e+01</td>\n",
       "      <td>13.116831</td>\n",
       "      <td>13.116831</td>\n",
       "      <td>733.854805</td>\n",
       "      <td>2511.916547</td>\n",
       "      <td>7.185255e+02</td>\n",
       "      <td>0.0</td>\n",
       "      <td>0.534522</td>\n",
       "      <td>0.744024</td>\n",
       "      <td>4.440077</td>\n",
       "    </tr>\n",
       "    <tr>\n",
       "      <th>min</th>\n",
       "      <td>1.080015e+09</td>\n",
       "      <td>0.000000e+00</td>\n",
       "      <td>1.080015e+09</td>\n",
       "      <td>1.080015e+09</td>\n",
       "      <td>0.000000</td>\n",
       "      <td>0.000000</td>\n",
       "      <td>23.600000</td>\n",
       "      <td>23.700000</td>\n",
       "      <td>1.260108e+07</td>\n",
       "      <td>0.0</td>\n",
       "      <td>0.000000</td>\n",
       "      <td>0.000000</td>\n",
       "      <td>6770.000000</td>\n",
       "    </tr>\n",
       "    <tr>\n",
       "      <th>25%</th>\n",
       "      <td>1.080015e+09</td>\n",
       "      <td>0.000000e+00</td>\n",
       "      <td>1.080015e+09</td>\n",
       "      <td>1.080015e+09</td>\n",
       "      <td>0.000000</td>\n",
       "      <td>0.000000</td>\n",
       "      <td>543.475000</td>\n",
       "      <td>543.525000</td>\n",
       "      <td>1.260108e+07</td>\n",
       "      <td>0.0</td>\n",
       "      <td>0.000000</td>\n",
       "      <td>0.000000</td>\n",
       "      <td>6771.750000</td>\n",
       "    </tr>\n",
       "    <tr>\n",
       "      <th>50%</th>\n",
       "      <td>1.080015e+09</td>\n",
       "      <td>0.000000e+00</td>\n",
       "      <td>1.080015e+09</td>\n",
       "      <td>1.080015e+09</td>\n",
       "      <td>0.000000</td>\n",
       "      <td>0.000000</td>\n",
       "      <td>805.550000</td>\n",
       "      <td>1111.450000</td>\n",
       "      <td>1.260108e+07</td>\n",
       "      <td>0.0</td>\n",
       "      <td>0.500000</td>\n",
       "      <td>0.500000</td>\n",
       "      <td>6773.500000</td>\n",
       "    </tr>\n",
       "    <tr>\n",
       "      <th>75%</th>\n",
       "      <td>1.080015e+09</td>\n",
       "      <td>0.000000e+00</td>\n",
       "      <td>1.080015e+09</td>\n",
       "      <td>1.080015e+09</td>\n",
       "      <td>0.000000</td>\n",
       "      <td>0.000000</td>\n",
       "      <td>1553.200000</td>\n",
       "      <td>1841.250000</td>\n",
       "      <td>1.260200e+07</td>\n",
       "      <td>0.0</td>\n",
       "      <td>1.000000</td>\n",
       "      <td>1.000000</td>\n",
       "      <td>6775.500000</td>\n",
       "    </tr>\n",
       "    <tr>\n",
       "      <th>max</th>\n",
       "      <td>1.081655e+09</td>\n",
       "      <td>1.080015e+09</td>\n",
       "      <td>1.080015e+09</td>\n",
       "      <td>1.080015e+09</td>\n",
       "      <td>37.100000</td>\n",
       "      <td>37.100000</td>\n",
       "      <td>2120.100000</td>\n",
       "      <td>7797.800000</td>\n",
       "      <td>1.260300e+07</td>\n",
       "      <td>0.0</td>\n",
       "      <td>1.000000</td>\n",
       "      <td>2.000000</td>\n",
       "      <td>6784.000000</td>\n",
       "    </tr>\n",
       "  </tbody>\n",
       "</table>\n",
       "</div>"
      ],
      "text/plain": [
       "           HYBAS_ID     NEXT_DOWN     NEXT_SINK      MAIN_BAS  DIST_SINK  \\\n",
       "count  8.000000e+00  8.000000e+00  8.000000e+00  8.000000e+00   8.000000   \n",
       "mean   1.080220e+09  1.350019e+08  1.080015e+09  1.080015e+09   4.637500   \n",
       "std    5.798437e+05  3.818431e+08  6.654751e+01  6.654751e+01  13.116831   \n",
       "min    1.080015e+09  0.000000e+00  1.080015e+09  1.080015e+09   0.000000   \n",
       "25%    1.080015e+09  0.000000e+00  1.080015e+09  1.080015e+09   0.000000   \n",
       "50%    1.080015e+09  0.000000e+00  1.080015e+09  1.080015e+09   0.000000   \n",
       "75%    1.080015e+09  0.000000e+00  1.080015e+09  1.080015e+09   0.000000   \n",
       "max    1.081655e+09  1.080015e+09  1.080015e+09  1.080015e+09  37.100000   \n",
       "\n",
       "       DIST_MAIN     SUB_AREA      UP_AREA       PFAF_ID  ENDO     COAST  \\\n",
       "count   8.000000     8.000000     8.000000  8.000000e+00   8.0  8.000000   \n",
       "mean    4.637500   986.087500  1851.312500  1.260155e+07   0.0  0.500000   \n",
       "std    13.116831   733.854805  2511.916547  7.185255e+02   0.0  0.534522   \n",
       "min     0.000000    23.600000    23.700000  1.260108e+07   0.0  0.000000   \n",
       "25%     0.000000   543.475000   543.525000  1.260108e+07   0.0  0.000000   \n",
       "50%     0.000000   805.550000  1111.450000  1.260108e+07   0.0  0.500000   \n",
       "75%     0.000000  1553.200000  1841.250000  1.260200e+07   0.0  1.000000   \n",
       "max    37.100000  2120.100000  7797.800000  1.260300e+07   0.0  1.000000   \n",
       "\n",
       "          ORDER         SORT  \n",
       "count  8.000000     8.000000  \n",
       "mean   0.625000  6774.500000  \n",
       "std    0.744024     4.440077  \n",
       "min    0.000000  6770.000000  \n",
       "25%    0.000000  6771.750000  \n",
       "50%    0.500000  6773.500000  \n",
       "75%    1.000000  6775.500000  \n",
       "max    2.000000  6784.000000  "
      ]
     },
     "execution_count": 21,
     "metadata": {},
     "output_type": "execute_result"
    }
   ],
   "source": [
    "basin.describe()"
   ]
  },
  {
   "cell_type": "markdown",
   "metadata": {},
   "source": [
    "* ***You may also get statistics on a specific column.*** \n",
    "* ***Using `[]`, the output will be a `pandas series`; using `[[]]`, the output will be a `pandas dataframe`.***"
   ]
  },
  {
   "cell_type": "code",
   "execution_count": 24,
   "metadata": {},
   "outputs": [
    {
     "data": {
      "text/plain": [
       "count       8.000000\n",
       "mean      986.087500\n",
       "std       733.854805\n",
       "min        23.600000\n",
       "25%       543.475000\n",
       "50%       805.550000\n",
       "75%      1553.200000\n",
       "max      2120.100000\n",
       "Name: SUB_AREA, dtype: float64"
      ]
     },
     "execution_count": 24,
     "metadata": {},
     "output_type": "execute_result"
    }
   ],
   "source": [
    "basin['SUB_AREA'].describe()"
   ]
  },
  {
   "cell_type": "code",
   "execution_count": 26,
   "metadata": {},
   "outputs": [
    {
     "data": {
      "text/html": [
       "<div>\n",
       "<style scoped>\n",
       "    .dataframe tbody tr th:only-of-type {\n",
       "        vertical-align: middle;\n",
       "    }\n",
       "\n",
       "    .dataframe tbody tr th {\n",
       "        vertical-align: top;\n",
       "    }\n",
       "\n",
       "    .dataframe thead th {\n",
       "        text-align: right;\n",
       "    }\n",
       "</style>\n",
       "<table border=\"1\" class=\"dataframe\">\n",
       "  <thead>\n",
       "    <tr style=\"text-align: right;\">\n",
       "      <th></th>\n",
       "      <th>SUB_AREA</th>\n",
       "    </tr>\n",
       "  </thead>\n",
       "  <tbody>\n",
       "    <tr>\n",
       "      <th>count</th>\n",
       "      <td>8.000000</td>\n",
       "    </tr>\n",
       "    <tr>\n",
       "      <th>mean</th>\n",
       "      <td>986.087500</td>\n",
       "    </tr>\n",
       "    <tr>\n",
       "      <th>std</th>\n",
       "      <td>733.854805</td>\n",
       "    </tr>\n",
       "    <tr>\n",
       "      <th>min</th>\n",
       "      <td>23.600000</td>\n",
       "    </tr>\n",
       "    <tr>\n",
       "      <th>25%</th>\n",
       "      <td>543.475000</td>\n",
       "    </tr>\n",
       "    <tr>\n",
       "      <th>50%</th>\n",
       "      <td>805.550000</td>\n",
       "    </tr>\n",
       "    <tr>\n",
       "      <th>75%</th>\n",
       "      <td>1553.200000</td>\n",
       "    </tr>\n",
       "    <tr>\n",
       "      <th>max</th>\n",
       "      <td>2120.100000</td>\n",
       "    </tr>\n",
       "  </tbody>\n",
       "</table>\n",
       "</div>"
      ],
      "text/plain": [
       "          SUB_AREA\n",
       "count     8.000000\n",
       "mean    986.087500\n",
       "std     733.854805\n",
       "min      23.600000\n",
       "25%     543.475000\n",
       "50%     805.550000\n",
       "75%    1553.200000\n",
       "max    2120.100000"
      ]
     },
     "execution_count": 26,
     "metadata": {},
     "output_type": "execute_result"
    }
   ],
   "source": [
    "basin[['SUB_AREA']].describe()"
   ]
  },
  {
   "cell_type": "markdown",
   "metadata": {},
   "source": [
    "### Sort GeoDataFrame\n",
    "\n",
    "***--- `<gdf>.sort_values(by = '<col_name>', ascending = <bool>)`***"
   ]
  },
  {
   "cell_type": "code",
   "execution_count": 6,
   "metadata": {},
   "outputs": [
    {
     "name": "stdout",
     "output_type": "stream",
     "text": [
      "<class 'geopandas.geodataframe.GeoDataFrame'>\n",
      "<class 'geopandas.geoseries.GeoSeries'>\n",
      "<class 'shapely.geometry.multipolygon.MultiPolygon'>\n",
      "<class 'shapely.geometry.polygon.Polygon'>\n"
     ]
    }
   ],
   "source": [
    "print(type(basin))\n",
    "print(type(basin['geometry']))\n",
    "print(type(basin['geometry'][0]))\n",
    "print(type(basin['geometry'][0][0]))"
   ]
  },
  {
   "cell_type": "markdown",
   "metadata": {},
   "source": [
    "## Reproject Data\n",
    "\n",
    "* To check out the CRS of vector data, use **`<gdf>.crs`**.\n",
    "* To reproject vector data, use **`<gdf>.to_crs('EPSG:XXXX')`**."
   ]
  },
  {
   "cell_type": "code",
   "execution_count": 31,
   "metadata": {},
   "outputs": [
    {
     "name": "stdout",
     "output_type": "stream",
     "text": [
      "<class 'geopandas.geodataframe.GeoDataFrame'>\n"
     ]
    },
    {
     "data": {
      "text/html": [
       "<div>\n",
       "<style scoped>\n",
       "    .dataframe tbody tr th:only-of-type {\n",
       "        vertical-align: middle;\n",
       "    }\n",
       "\n",
       "    .dataframe tbody tr th {\n",
       "        vertical-align: top;\n",
       "    }\n",
       "\n",
       "    .dataframe thead th {\n",
       "        text-align: right;\n",
       "    }\n",
       "</style>\n",
       "<table border=\"1\" class=\"dataframe\">\n",
       "  <thead>\n",
       "    <tr style=\"text-align: right;\">\n",
       "      <th></th>\n",
       "      <th>HYBAS_ID</th>\n",
       "      <th>NEXT_DOWN</th>\n",
       "      <th>NEXT_SINK</th>\n",
       "      <th>MAIN_BAS</th>\n",
       "      <th>DIST_SINK</th>\n",
       "      <th>DIST_MAIN</th>\n",
       "      <th>SUB_AREA</th>\n",
       "      <th>UP_AREA</th>\n",
       "      <th>PFAF_ID</th>\n",
       "      <th>ENDO</th>\n",
       "      <th>COAST</th>\n",
       "      <th>ORDER</th>\n",
       "      <th>SORT</th>\n",
       "      <th>geometry</th>\n",
       "    </tr>\n",
       "  </thead>\n",
       "  <tbody>\n",
       "    <tr>\n",
       "      <th>0</th>\n",
       "      <td>1080015240</td>\n",
       "      <td>0</td>\n",
       "      <td>1080015240</td>\n",
       "      <td>1080015240</td>\n",
       "      <td>0.0</td>\n",
       "      <td>0.0</td>\n",
       "      <td>638.2</td>\n",
       "      <td>638.2</td>\n",
       "      <td>12601077</td>\n",
       "      <td>0</td>\n",
       "      <td>1</td>\n",
       "      <td>0</td>\n",
       "      <td>6770</td>\n",
       "      <td>MULTIPOLYGON (((18.58611 -34.14167, 18.57999 -...</td>\n",
       "    </tr>\n",
       "    <tr>\n",
       "      <th>1</th>\n",
       "      <td>1080015260</td>\n",
       "      <td>0</td>\n",
       "      <td>1080015260</td>\n",
       "      <td>1080015260</td>\n",
       "      <td>0.0</td>\n",
       "      <td>0.0</td>\n",
       "      <td>259.3</td>\n",
       "      <td>259.5</td>\n",
       "      <td>12601078</td>\n",
       "      <td>0</td>\n",
       "      <td>0</td>\n",
       "      <td>1</td>\n",
       "      <td>6771</td>\n",
       "      <td>MULTIPOLYGON (((18.47500 -33.91667, 18.47500 -...</td>\n",
       "    </tr>\n",
       "    <tr>\n",
       "      <th>2</th>\n",
       "      <td>1080015270</td>\n",
       "      <td>0</td>\n",
       "      <td>1080015270</td>\n",
       "      <td>1080015270</td>\n",
       "      <td>0.0</td>\n",
       "      <td>0.0</td>\n",
       "      <td>23.6</td>\n",
       "      <td>23.7</td>\n",
       "      <td>12601079</td>\n",
       "      <td>0</td>\n",
       "      <td>1</td>\n",
       "      <td>0</td>\n",
       "      <td>6772</td>\n",
       "      <td>MULTIPOLYGON (((18.50000 -33.91250, 18.49779 -...</td>\n",
       "    </tr>\n",
       "    <tr>\n",
       "      <th>3</th>\n",
       "      <td>1080015280</td>\n",
       "      <td>0</td>\n",
       "      <td>1080015280</td>\n",
       "      <td>1080015280</td>\n",
       "      <td>0.0</td>\n",
       "      <td>0.0</td>\n",
       "      <td>1488.2</td>\n",
       "      <td>1488.3</td>\n",
       "      <td>12601080</td>\n",
       "      <td>0</td>\n",
       "      <td>0</td>\n",
       "      <td>1</td>\n",
       "      <td>6773</td>\n",
       "      <td>MULTIPOLYGON (((18.89167 -33.85000, 18.87696 -...</td>\n",
       "    </tr>\n",
       "    <tr>\n",
       "      <th>4</th>\n",
       "      <td>1080015290</td>\n",
       "      <td>0</td>\n",
       "      <td>1080015290</td>\n",
       "      <td>1080015290</td>\n",
       "      <td>0.0</td>\n",
       "      <td>0.0</td>\n",
       "      <td>2120.1</td>\n",
       "      <td>2120.1</td>\n",
       "      <td>12601090</td>\n",
       "      <td>0</td>\n",
       "      <td>1</td>\n",
       "      <td>0</td>\n",
       "      <td>6774</td>\n",
       "      <td>MULTIPOLYGON (((18.37361 -33.82500, 18.36762 -...</td>\n",
       "    </tr>\n",
       "    <tr>\n",
       "      <th>5</th>\n",
       "      <td>1080015390</td>\n",
       "      <td>0</td>\n",
       "      <td>1080015390</td>\n",
       "      <td>1080015390</td>\n",
       "      <td>0.0</td>\n",
       "      <td>0.0</td>\n",
       "      <td>876.5</td>\n",
       "      <td>7797.8</td>\n",
       "      <td>12602001</td>\n",
       "      <td>0</td>\n",
       "      <td>0</td>\n",
       "      <td>1</td>\n",
       "      <td>6775</td>\n",
       "      <td>MULTIPOLYGON (((18.25833 -33.04583, 18.24341 -...</td>\n",
       "    </tr>\n",
       "    <tr>\n",
       "      <th>6</th>\n",
       "      <td>1081655350</td>\n",
       "      <td>1080015390</td>\n",
       "      <td>1080015390</td>\n",
       "      <td>1080015390</td>\n",
       "      <td>37.1</td>\n",
       "      <td>37.1</td>\n",
       "      <td>1748.2</td>\n",
       "      <td>1748.3</td>\n",
       "      <td>12602002</td>\n",
       "      <td>0</td>\n",
       "      <td>0</td>\n",
       "      <td>2</td>\n",
       "      <td>6777</td>\n",
       "      <td>MULTIPOLYGON (((18.65833 -33.43750, 18.65777 -...</td>\n",
       "    </tr>\n",
       "    <tr>\n",
       "      <th>7</th>\n",
       "      <td>1080015400</td>\n",
       "      <td>0</td>\n",
       "      <td>1080015400</td>\n",
       "      <td>1080015400</td>\n",
       "      <td>0.0</td>\n",
       "      <td>0.0</td>\n",
       "      <td>734.6</td>\n",
       "      <td>734.6</td>\n",
       "      <td>12603001</td>\n",
       "      <td>0</td>\n",
       "      <td>1</td>\n",
       "      <td>0</td>\n",
       "      <td>6784</td>\n",
       "      <td>MULTIPOLYGON (((18.22500 -32.69583, 18.22597 -...</td>\n",
       "    </tr>\n",
       "  </tbody>\n",
       "</table>\n",
       "</div>"
      ],
      "text/plain": [
       "     HYBAS_ID   NEXT_DOWN   NEXT_SINK    MAIN_BAS  DIST_SINK  DIST_MAIN  \\\n",
       "0  1080015240           0  1080015240  1080015240        0.0        0.0   \n",
       "1  1080015260           0  1080015260  1080015260        0.0        0.0   \n",
       "2  1080015270           0  1080015270  1080015270        0.0        0.0   \n",
       "3  1080015280           0  1080015280  1080015280        0.0        0.0   \n",
       "4  1080015290           0  1080015290  1080015290        0.0        0.0   \n",
       "5  1080015390           0  1080015390  1080015390        0.0        0.0   \n",
       "6  1081655350  1080015390  1080015390  1080015390       37.1       37.1   \n",
       "7  1080015400           0  1080015400  1080015400        0.0        0.0   \n",
       "\n",
       "   SUB_AREA  UP_AREA   PFAF_ID  ENDO  COAST  ORDER  SORT  \\\n",
       "0     638.2    638.2  12601077     0      1      0  6770   \n",
       "1     259.3    259.5  12601078     0      0      1  6771   \n",
       "2      23.6     23.7  12601079     0      1      0  6772   \n",
       "3    1488.2   1488.3  12601080     0      0      1  6773   \n",
       "4    2120.1   2120.1  12601090     0      1      0  6774   \n",
       "5     876.5   7797.8  12602001     0      0      1  6775   \n",
       "6    1748.2   1748.3  12602002     0      0      2  6777   \n",
       "7     734.6    734.6  12603001     0      1      0  6784   \n",
       "\n",
       "                                            geometry  \n",
       "0  MULTIPOLYGON (((18.58611 -34.14167, 18.57999 -...  \n",
       "1  MULTIPOLYGON (((18.47500 -33.91667, 18.47500 -...  \n",
       "2  MULTIPOLYGON (((18.50000 -33.91250, 18.49779 -...  \n",
       "3  MULTIPOLYGON (((18.89167 -33.85000, 18.87696 -...  \n",
       "4  MULTIPOLYGON (((18.37361 -33.82500, 18.36762 -...  \n",
       "5  MULTIPOLYGON (((18.25833 -33.04583, 18.24341 -...  \n",
       "6  MULTIPOLYGON (((18.65833 -33.43750, 18.65777 -...  \n",
       "7  MULTIPOLYGON (((18.22500 -32.69583, 18.22597 -...  "
      ]
     },
     "execution_count": 31,
     "metadata": {},
     "output_type": "execute_result"
    }
   ],
   "source": [
    "print(type(basin))\n",
    "basin"
   ]
  },
  {
   "cell_type": "code",
   "execution_count": null,
   "metadata": {},
   "outputs": [],
   "source": [
    "my_vector = json.loads(gdf.to_json())['features']"
   ]
  },
  {
   "cell_type": "markdown",
   "metadata": {},
   "source": [
    "## Recommended next steps\n",
    "\n",
    "***Further Reading Materials:***\n",
    "* ***Geopandas Documentation***(Link?)\n",
    "* ***Slow-paced reader friendly tutorial about pandas***(earthlab tutorial Link?)\n",
    "\n",
    "To continue working through the notebooks in this beginner's guide, the following notebooks are designed to be worked through in the following order:\n",
    "\n",
    "1. [Jupyter Notebooks](01_jupyter_introduction.ipynb)\n",
    "2. [eo2cube](02_eo2cube.ipynb)\n",
    "3. [Search and Load Data](03_products_and_measurements.ipynb)\n",
    "4. **Xarray I: Data Structure (this notebook)**\n",
    "5. [Xarray II: Index and Statistics](05_advanced_xarray.ipynb)\n",
    "6. [Plot](06_plotting.ipynb)\n",
    "7. [Basic analysis of remote sensing data](07_basic_analysis.ipynb)\n",
    "8. [Parallel processing with Dask](08_parallel_processing_with_dask.ipynb)"
   ]
  },
  {
   "cell_type": "markdown",
   "metadata": {},
   "source": [
    "## Additional information\n",
    "\n",
    "This notebook for the usage of Jupyter Notebook of the [Department of Remote Sensing](http://remote-sensing.org/), [University of Wuerzburg](https://www.uni-wuerzburg.de/startseite/), is partly adapted from [Earth Lab](https://www.earthdatascience.org/courses/intro-to-earth-data-science/), published using the CC BY-NC-ND License 4.0. Thanks!\n",
    "\n",
    "**License:** The code in this notebook is licensed under the [Apache License, Version 2.0](https://www.apache.org/licenses/LICENSE-2.0). \n",
    "\n",
    "\n",
    "**Contact:** If you would like to report an issue with this notebook, you can file one on [Github](https://github.com).\n",
    "\n",
    "**Last modified:** April 2021"
   ]
  }
 ],
 "metadata": {
  "kernelspec": {
   "display_name": "Python 3.8 earthlab",
   "language": "python",
   "name": "earthlab"
  },
  "language_info": {
   "codemirror_mode": {
    "name": "ipython",
    "version": 3
   },
   "file_extension": ".py",
   "mimetype": "text/x-python",
   "name": "python",
   "nbconvert_exporter": "python",
   "pygments_lexer": "ipython3",
   "version": "3.7.8"
  }
 },
 "nbformat": 4,
 "nbformat_minor": 4
}
