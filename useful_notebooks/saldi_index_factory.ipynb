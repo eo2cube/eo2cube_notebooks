{
 "cells": [
  {
   "cell_type": "code",
   "execution_count": 1,
   "metadata": {},
   "outputs": [],
   "source": [
    "%matplotlib inline\n",
    "\n",
    "import datacube\n",
    "import matplotlib.pyplot as plt\n",
    "import matplotlib.gridspec as gridspec\n",
    "import numpy as np\n",
    "import pandas as pd\n",
    "import sys\n",
    "import geopandas as gpd\n",
    "import xarray as xr\n",
    "\n",
    "from odc.ui import with_ui_cbk, DcViewer\n",
    "\n",
    "sys.path.insert(0, 'index_factory/indices/tools')\n",
    "from indices.tools.bandindices import s2_indices\n",
    "from indices.tools.plotting import rgb\n",
    "#from eo2cube_tools import plot\n",
    "\n",
    "import datetime\n",
    "from datacube.utils.cog import write_cog"
   ]
  },
  {
   "cell_type": "code",
   "execution_count": 2,
   "metadata": {},
   "outputs": [],
   "source": [
    "dc = datacube.Datacube(app='indices', config = '/home/datacube/.datacube.conf')"
   ]
  },
  {
   "cell_type": "code",
   "execution_count": 3,
   "metadata": {},
   "outputs": [],
   "source": [
    "# choose saldi-site: [1,2,3,4,5,6]\n",
    "site = 5\n",
    "\n",
    "# adjust start of the moving calendar week\n",
    "year = 2020\n",
    "month = 1\n",
    "day = 1\n",
    "\n",
    "# initiate a list of indices: [NDVI;RVI;EVI;PVI;DVI;REIP;SAVI;MSAVI;TSAVI;NDBI;NDWI]\n",
    "#index=['NDVI', 'EVI', 'SAVI', 'MSAVI', 'NDBI', 'NDWI']\n",
    "#index=['RVI', 'PVI', 'DVI', 'REIP', 'TSAVI']\n",
    "index=['RVI', 'PVI', 'DVI', 'REIP', 'TSAVI','NDVI', 'EVI', 'SAVI', 'MSAVI', 'NDBI', 'NDWI']\n",
    "\n",
    "setSite = str(site)\n",
    "setYear = str(year)\n",
    "shapefile = 'SALDi_0'+setSite+'.shp'\n",
    "product = 's2_l2a_saldi_0'+setSite\n",
    "saldiSite = \"saldi_0\"+setSite"
   ]
  },
  {
   "cell_type": "code",
   "execution_count": 4,
   "metadata": {},
   "outputs": [],
   "source": [
    "shp = gpd.read_file('/datacube/notebooks/kluter/index_factory/saldi_sites/' + shapefile)\n",
    "#plot.map_polygon(shp)\n",
    "\n",
    "if site == 1: \n",
    "    shp = shp.to_crs('epsg:32734')\n",
    "elif site == 2:\n",
    "    shp = shp.to_crs('epsg:32734')\n",
    "elif site == 3:\n",
    "    shp = shp.to_crs('epsg:32735')\n",
    "elif site == 4:\n",
    "    shp = shp.to_crs('epsg:32735')\n",
    "elif site == 5:\n",
    "    shp = shp.to_crs('epsg:32735')\n",
    "elif site == 6:\n",
    "    shp = shp.to_crs('epsg:32736')\n",
    "else:\n",
    "    print('Error: saldi-site does not exist.')\n",
    "    \n",
    "crs = shp.crs\n",
    "\n",
    "longitude_extents = (shp.total_bounds[0], shp.total_bounds[2])\n",
    "latitude_extents  = (shp.total_bounds[1], shp.total_bounds[3])\n",
    "#print('\\n Maximal shapefile extents:\\n\\n', 'x:', latitude_extents, '\\n y:', longitude_extents, '\\n')"
   ]
  },
  {
   "cell_type": "code",
   "execution_count": null,
   "metadata": {},
   "outputs": [],
   "source": [
    "for i in range(54)[1:]:\n",
    "\n",
    "    start = datetime.datetime(year, month, day) \n",
    "    end = start + datetime.timedelta(6) \n",
    "    startString = start.strftime('%Y-%m-%d')\n",
    "    endString = end.strftime('%Y-%m-%d')\n",
    "    \n",
    "    end = end + datetime.timedelta(1)\n",
    "    year = int(end.strftime('%Y'))\n",
    "    month = int(end.strftime('%m'))\n",
    "    day = int(end.strftime('%d'))\n",
    "\n",
    "    if start >= datetime.datetime(int(setYear)+1, 1, 1):\n",
    "        break\n",
    "    elif end >= datetime.datetime(int(setYear)+1, 1, 1):\n",
    "        end = datetime.datetime(int(setYear), 12, 31)\n",
    "        endString = end.strftime('%Y-%m-%d')\n",
    "    \n",
    "    now = datetime.datetime.now().strftime(\"%H:%M:%S\")\n",
    "    print(now + '    ' + startString + '    ' + endString + '    Week - ' + str(i))\n",
    "    \n",
    "    \n",
    "    dataset = dc.load(product = product,\n",
    "                          x=longitude_extents,\n",
    "                          y=latitude_extents,\n",
    "                          crs=crs,\n",
    "                          time=(startString, endString),\n",
    "                          group_by='solar_day',\n",
    "                          progress_cbk=with_ui_cbk())\n",
    "    \n",
    "    \n",
    "    if str(dataset.coords)[-7:] != '*empty*':\n",
    "    \n",
    "        now = datetime.datetime.now().strftime(\"%H:%M:%S\")\n",
    "        print(now + '    ' + 'Dataset: ' + str(year) + '  -  Week ' + str(i) + ' loaded.' + '\\n')\n",
    "        now = datetime.datetime.now().strftime(\"%H:%M:%S\")\n",
    "        print(now + '    ' + 'Computing Index.')\n",
    "\n",
    "        s2_indices(dataset, \n",
    "               index=index, \n",
    "               inplace=True)\n",
    "\n",
    "        now = datetime.datetime.now().strftime(\"%H:%M:%S\")\n",
    "        print(now + '    ' + str(index) + ' - computed.'+'\\n')\n",
    "\n",
    "\n",
    "        for k in range(len(index)):\n",
    "\n",
    "            exe0 = 'dataset.'+index[k]+'.isel(time=j)'\n",
    "            exe1 = 'dataset.'+index[k]+'.time'\n",
    "            exe2 = 'dataset.'+index[k]+'.time[j].values'\n",
    "\n",
    "            for j in range(len(eval(exe1))):\n",
    "                name = str(eval(exe2))\n",
    "                write_cog(geo_im=eval(exe0),\n",
    "                          fname='/datacube/notebooks/kluter/index_factory/output/'+\n",
    "                                  setYear + '/' +\n",
    "                                  saldiSite + '/' +\n",
    "                                  index[k] + '/' +\n",
    "                                  saldiSite + '_' + index[k] + '_' + name + '.tiff',\n",
    "                                  overwrite=True)\n",
    "\n",
    "                now = datetime.datetime.now().strftime(\"%H:%M:%S\")\n",
    "                print(now + '    ' + index[k] + '.tiff - ' + str(j+1) + ' of ' + str(len(eval(exe1))) + ' exported.')\n",
    "\n",
    "        print('\\n\\n')"
   ]
  },
  {
   "cell_type": "code",
   "execution_count": 6,
   "metadata": {},
   "outputs": [
    {
     "data": {
      "application/vnd.jupyter.widget-view+json": {
       "model_id": "c3206398c0504a8ab96bd4e7d647e87f",
       "version_major": 2,
       "version_minor": 0
      },
      "text/plain": [
       "VBox(children=(HBox(children=(Label(value=''), Label(value='')), layout=Layout(justify_content='space-between'…"
      ]
     },
     "metadata": {},
     "output_type": "display_data"
    }
   ],
   "source": [
    "dataset = dc.load(product = product,\n",
    "                  x=longitude_extents,\n",
    "                  y=latitude_extents,\n",
    "                  crs='EPSG:32735',\n",
    "                  time=('2016-01-03', '2016-01-05'),\n",
    "                  group_by='solar_day',\n",
    "                  progress_cbk=with_ui_cbk())\n",
    "\n",
    "#s2_indices(dataset, \n",
    " #          index=['NDVI', 'EVI', 'SAVI', 'MSAVI', 'NDBI', 'NDWI'], \n",
    "  #         inplace=True)\n",
    "    \n",
    "#name=str(dataset.EVI.time[0].values)\n",
    "    \n",
    "#write_cog(geo_im=dataset.EVI.isel(time=0),\n",
    "#          fname='/datacube/notebooks/kluter/index_factory/output/2020/saldi_01/EVI/saldi_01_EVI_'+name+'.tiff',\n",
    "#          overwrite=True)\n",
    "    \n",
    "#index_factory/output/2020/saldi_01/EVI/saldi_01_EVI_2020-01-01T08:49:41.690279000.tiff"
   ]
  },
  {
   "cell_type": "code",
   "execution_count": 12,
   "metadata": {},
   "outputs": [
    {
     "data": {
      "application/vnd.jupyter.widget-view+json": {
       "model_id": "83748d4fb3904d6c94210ae167f0b8ea",
       "version_major": 2,
       "version_minor": 0
      },
      "text/plain": [
       "VBox(children=(HBox(children=(Dropdown(layout=Layout(flex='0 1 auto', width='10em'), options=('S1_GRD_index_ag…"
      ]
     },
     "metadata": {},
     "output_type": "display_data"
    }
   ],
   "source": [
    "DcViewer(dc=dc,\n",
    "         time='2016-01-01',\n",
    "         width='1100px',\n",
    "         center=(-20.00, 27.00),\n",
    "         zoom=4)"
   ]
  },
  {
   "cell_type": "code",
   "execution_count": 11,
   "metadata": {},
   "outputs": [
    {
     "data": {
      "text/plain": [
       "<matplotlib.collections.QuadMesh at 0x7fd66db55730>"
      ]
     },
     "execution_count": 11,
     "metadata": {},
     "output_type": "execute_result"
    },
    {
     "data": {
      "image/png": "[encoded data removed]",
      "text/plain": [
       "<Figure size 1620x1080 with 2 Axes>"
      ]
     },
     "metadata": {
      "needs_background": "light"
     },
     "output_type": "display_data"
    }
   ],
   "source": [
    "dataset.red.plot(size=15, cmap=\"gnuplot\")"
   ]
  },
  {
   "cell_type": "code",
   "execution_count": null,
   "metadata": {},
   "outputs": [],
   "source": [
    "#    now = datetime.datetime.now().strftime(\"%H:%M:%S\")\n",
    "#    print(now + '    ' + str(index) + ' - computed.'+'\\n')\n",
    "    \n",
    "    \n",
    "#    for k in range(len(index)):\n",
    "#    \n",
    "#        exe0 = 'dataset.'+index[k]+'.isel(time=j)'\n",
    "#        exe1 = 'dataset.'+index[k]+'.time'\n",
    "#        exe2 = 'dataset.'+index[k]+'.time[j].values'\n",
    "\n",
    "#        for j in range(len(eval(exe1))):\n",
    "#            name = str(eval(exe2))\n",
    "#            write_cog(geo_im=eval(exe0),\n",
    "#                      fname='/datacube/notebooks/kluter/index_factory/output/'+\n",
    "#                              setYear + '/' +\n",
    "#                              site + '/' +\n",
    "#                              index[k] + '/' +\n",
    "#                              site + '_' + index[k] + '_' + name + '.tiff',\n",
    "#                              overwrite=True)\n",
    "            \n",
    "#            now = datetime.datetime.now().strftime(\"%H:%M:%S\")\n",
    "#            print(now + '    ' + index[k] + '.tiff - ' + str(j+1) + ' of ' + str(len(eval(exe1))) + ' exported.')\n",
    "\n",
    "#    print('\\n\\n')"
   ]
  }
 ],
 "metadata": {
  "kernelspec": {
   "display_name": "Python 3",
   "language": "python",
   "name": "python3"
  },
  "language_info": {
   "codemirror_mode": {
    "name": "ipython",
    "version": 3
   },
   "file_extension": ".py",
   "mimetype": "text/x-python",
   "name": "python",
   "nbconvert_exporter": "python",
   "pygments_lexer": "ipython3",
   "version": "3.8.10"
  }
 },
 "nbformat": 4,
 "nbformat_minor": 4
}
